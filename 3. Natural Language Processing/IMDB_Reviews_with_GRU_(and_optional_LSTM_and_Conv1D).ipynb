{
  "nbformat": 4,
  "nbformat_minor": 0,
  "metadata": {
    "accelerator": "GPU",
    "colab": {
      "name": "IMDB Reviews with GRU (and optional LSTM and Conv1D).ipynb",
      "provenance": [],
      "collapsed_sections": [],
      "toc_visible": true,
      "include_colab_link": true
    },
    "kernelspec": {
      "display_name": "Python 3",
      "name": "python3"
    },
    "widgets": {
      "application/vnd.jupyter.widget-state+json": {
        "bb0d9cee32ff4ff1996e31dba05eb77f": {
          "model_module": "@jupyter-widgets/controls",
          "model_name": "HBoxModel",
          "state": {
            "_view_name": "HBoxView",
            "_dom_classes": [],
            "_model_name": "HBoxModel",
            "_view_module": "@jupyter-widgets/controls",
            "_model_module_version": "1.5.0",
            "_view_count": null,
            "_view_module_version": "1.5.0",
            "box_style": "",
            "layout": "IPY_MODEL_cb73eaa4b6b84f75a94fa100ac220ed7",
            "_model_module": "@jupyter-widgets/controls",
            "children": [
              "IPY_MODEL_e0d80a667ed7470893d999668603507d",
              "IPY_MODEL_f3cad18869f241f59190403f3ea49e4f"
            ]
          }
        },
        "cb73eaa4b6b84f75a94fa100ac220ed7": {
          "model_module": "@jupyter-widgets/base",
          "model_name": "LayoutModel",
          "state": {
            "_view_name": "LayoutView",
            "grid_template_rows": null,
            "right": null,
            "justify_content": null,
            "_view_module": "@jupyter-widgets/base",
            "overflow": null,
            "_model_module_version": "1.2.0",
            "_view_count": null,
            "flex_flow": null,
            "width": null,
            "min_width": null,
            "border": null,
            "align_items": null,
            "bottom": null,
            "_model_module": "@jupyter-widgets/base",
            "top": null,
            "grid_column": null,
            "overflow_y": null,
            "overflow_x": null,
            "grid_auto_flow": null,
            "grid_area": null,
            "grid_template_columns": null,
            "flex": null,
            "_model_name": "LayoutModel",
            "justify_items": null,
            "grid_row": null,
            "max_height": null,
            "align_content": null,
            "visibility": null,
            "align_self": null,
            "height": null,
            "min_height": null,
            "padding": null,
            "grid_auto_rows": null,
            "grid_gap": null,
            "max_width": null,
            "order": null,
            "_view_module_version": "1.2.0",
            "grid_template_areas": null,
            "object_position": null,
            "object_fit": null,
            "grid_auto_columns": null,
            "margin": null,
            "display": null,
            "left": null
          }
        },
        "e0d80a667ed7470893d999668603507d": {
          "model_module": "@jupyter-widgets/controls",
          "model_name": "FloatProgressModel",
          "state": {
            "_view_name": "ProgressView",
            "style": "IPY_MODEL_dd55ab9665e94b1bb5fb9a242f27efe1",
            "_dom_classes": [],
            "description": "Dl Completed...: 100%",
            "_model_name": "FloatProgressModel",
            "bar_style": "success",
            "max": 1,
            "_view_module": "@jupyter-widgets/controls",
            "_model_module_version": "1.5.0",
            "value": 1,
            "_view_count": null,
            "_view_module_version": "1.5.0",
            "orientation": "horizontal",
            "min": 0,
            "description_tooltip": null,
            "_model_module": "@jupyter-widgets/controls",
            "layout": "IPY_MODEL_7f5e829fa3c64682901c94eecab0bf1f"
          }
        },
        "f3cad18869f241f59190403f3ea49e4f": {
          "model_module": "@jupyter-widgets/controls",
          "model_name": "HTMLModel",
          "state": {
            "_view_name": "HTMLView",
            "style": "IPY_MODEL_ed295b798edf4a90b0c5abb223985784",
            "_dom_classes": [],
            "description": "",
            "_model_name": "HTMLModel",
            "placeholder": "​",
            "_view_module": "@jupyter-widgets/controls",
            "_model_module_version": "1.5.0",
            "value": " 1/1 [00:54&lt;00:00, 54.07s/ url]",
            "_view_count": null,
            "_view_module_version": "1.5.0",
            "description_tooltip": null,
            "_model_module": "@jupyter-widgets/controls",
            "layout": "IPY_MODEL_7fef958236914f4da0d6ce7a8013c601"
          }
        },
        "dd55ab9665e94b1bb5fb9a242f27efe1": {
          "model_module": "@jupyter-widgets/controls",
          "model_name": "ProgressStyleModel",
          "state": {
            "_view_name": "StyleView",
            "_model_name": "ProgressStyleModel",
            "description_width": "initial",
            "_view_module": "@jupyter-widgets/base",
            "_model_module_version": "1.5.0",
            "_view_count": null,
            "_view_module_version": "1.2.0",
            "bar_color": null,
            "_model_module": "@jupyter-widgets/controls"
          }
        },
        "7f5e829fa3c64682901c94eecab0bf1f": {
          "model_module": "@jupyter-widgets/base",
          "model_name": "LayoutModel",
          "state": {
            "_view_name": "LayoutView",
            "grid_template_rows": null,
            "right": null,
            "justify_content": null,
            "_view_module": "@jupyter-widgets/base",
            "overflow": null,
            "_model_module_version": "1.2.0",
            "_view_count": null,
            "flex_flow": null,
            "width": null,
            "min_width": null,
            "border": null,
            "align_items": null,
            "bottom": null,
            "_model_module": "@jupyter-widgets/base",
            "top": null,
            "grid_column": null,
            "overflow_y": null,
            "overflow_x": null,
            "grid_auto_flow": null,
            "grid_area": null,
            "grid_template_columns": null,
            "flex": null,
            "_model_name": "LayoutModel",
            "justify_items": null,
            "grid_row": null,
            "max_height": null,
            "align_content": null,
            "visibility": null,
            "align_self": null,
            "height": null,
            "min_height": null,
            "padding": null,
            "grid_auto_rows": null,
            "grid_gap": null,
            "max_width": null,
            "order": null,
            "_view_module_version": "1.2.0",
            "grid_template_areas": null,
            "object_position": null,
            "object_fit": null,
            "grid_auto_columns": null,
            "margin": null,
            "display": null,
            "left": null
          }
        },
        "ed295b798edf4a90b0c5abb223985784": {
          "model_module": "@jupyter-widgets/controls",
          "model_name": "DescriptionStyleModel",
          "state": {
            "_view_name": "StyleView",
            "_model_name": "DescriptionStyleModel",
            "description_width": "",
            "_view_module": "@jupyter-widgets/base",
            "_model_module_version": "1.5.0",
            "_view_count": null,
            "_view_module_version": "1.2.0",
            "_model_module": "@jupyter-widgets/controls"
          }
        },
        "7fef958236914f4da0d6ce7a8013c601": {
          "model_module": "@jupyter-widgets/base",
          "model_name": "LayoutModel",
          "state": {
            "_view_name": "LayoutView",
            "grid_template_rows": null,
            "right": null,
            "justify_content": null,
            "_view_module": "@jupyter-widgets/base",
            "overflow": null,
            "_model_module_version": "1.2.0",
            "_view_count": null,
            "flex_flow": null,
            "width": null,
            "min_width": null,
            "border": null,
            "align_items": null,
            "bottom": null,
            "_model_module": "@jupyter-widgets/base",
            "top": null,
            "grid_column": null,
            "overflow_y": null,
            "overflow_x": null,
            "grid_auto_flow": null,
            "grid_area": null,
            "grid_template_columns": null,
            "flex": null,
            "_model_name": "LayoutModel",
            "justify_items": null,
            "grid_row": null,
            "max_height": null,
            "align_content": null,
            "visibility": null,
            "align_self": null,
            "height": null,
            "min_height": null,
            "padding": null,
            "grid_auto_rows": null,
            "grid_gap": null,
            "max_width": null,
            "order": null,
            "_view_module_version": "1.2.0",
            "grid_template_areas": null,
            "object_position": null,
            "object_fit": null,
            "grid_auto_columns": null,
            "margin": null,
            "display": null,
            "left": null
          }
        },
        "01ec916fee2d4cc992c4dc0719e0f535": {
          "model_module": "@jupyter-widgets/controls",
          "model_name": "HBoxModel",
          "state": {
            "_view_name": "HBoxView",
            "_dom_classes": [],
            "_model_name": "HBoxModel",
            "_view_module": "@jupyter-widgets/controls",
            "_model_module_version": "1.5.0",
            "_view_count": null,
            "_view_module_version": "1.5.0",
            "box_style": "",
            "layout": "IPY_MODEL_854900ec585a4246a8491799f0b03001",
            "_model_module": "@jupyter-widgets/controls",
            "children": [
              "IPY_MODEL_530d0134eeb44e278998a8f884e75354",
              "IPY_MODEL_aee271eacb82418d9391c3712818d3be"
            ]
          }
        },
        "854900ec585a4246a8491799f0b03001": {
          "model_module": "@jupyter-widgets/base",
          "model_name": "LayoutModel",
          "state": {
            "_view_name": "LayoutView",
            "grid_template_rows": null,
            "right": null,
            "justify_content": null,
            "_view_module": "@jupyter-widgets/base",
            "overflow": null,
            "_model_module_version": "1.2.0",
            "_view_count": null,
            "flex_flow": null,
            "width": null,
            "min_width": null,
            "border": null,
            "align_items": null,
            "bottom": null,
            "_model_module": "@jupyter-widgets/base",
            "top": null,
            "grid_column": null,
            "overflow_y": null,
            "overflow_x": null,
            "grid_auto_flow": null,
            "grid_area": null,
            "grid_template_columns": null,
            "flex": null,
            "_model_name": "LayoutModel",
            "justify_items": null,
            "grid_row": null,
            "max_height": null,
            "align_content": null,
            "visibility": null,
            "align_self": null,
            "height": null,
            "min_height": null,
            "padding": null,
            "grid_auto_rows": null,
            "grid_gap": null,
            "max_width": null,
            "order": null,
            "_view_module_version": "1.2.0",
            "grid_template_areas": null,
            "object_position": null,
            "object_fit": null,
            "grid_auto_columns": null,
            "margin": null,
            "display": null,
            "left": null
          }
        },
        "530d0134eeb44e278998a8f884e75354": {
          "model_module": "@jupyter-widgets/controls",
          "model_name": "FloatProgressModel",
          "state": {
            "_view_name": "ProgressView",
            "style": "IPY_MODEL_8124894b93c14a0491202ce9c77dc3c2",
            "_dom_classes": [],
            "description": "Dl Size...: 100%",
            "_model_name": "FloatProgressModel",
            "bar_style": "success",
            "max": 1,
            "_view_module": "@jupyter-widgets/controls",
            "_model_module_version": "1.5.0",
            "value": 1,
            "_view_count": null,
            "_view_module_version": "1.5.0",
            "orientation": "horizontal",
            "min": 0,
            "description_tooltip": null,
            "_model_module": "@jupyter-widgets/controls",
            "layout": "IPY_MODEL_ce7aff08be674dab8f7d2342c06f0f7a"
          }
        },
        "aee271eacb82418d9391c3712818d3be": {
          "model_module": "@jupyter-widgets/controls",
          "model_name": "HTMLModel",
          "state": {
            "_view_name": "HTMLView",
            "style": "IPY_MODEL_53864a7992b54520b711989897129c55",
            "_dom_classes": [],
            "description": "",
            "_model_name": "HTMLModel",
            "placeholder": "​",
            "_view_module": "@jupyter-widgets/controls",
            "_model_module_version": "1.5.0",
            "value": " 80/80 [00:54&lt;00:00,  1.48 MiB/s]",
            "_view_count": null,
            "_view_module_version": "1.5.0",
            "description_tooltip": null,
            "_model_module": "@jupyter-widgets/controls",
            "layout": "IPY_MODEL_0856a2a698264bcd84878d023ffa0ac5"
          }
        },
        "8124894b93c14a0491202ce9c77dc3c2": {
          "model_module": "@jupyter-widgets/controls",
          "model_name": "ProgressStyleModel",
          "state": {
            "_view_name": "StyleView",
            "_model_name": "ProgressStyleModel",
            "description_width": "initial",
            "_view_module": "@jupyter-widgets/base",
            "_model_module_version": "1.5.0",
            "_view_count": null,
            "_view_module_version": "1.2.0",
            "bar_color": null,
            "_model_module": "@jupyter-widgets/controls"
          }
        },
        "ce7aff08be674dab8f7d2342c06f0f7a": {
          "model_module": "@jupyter-widgets/base",
          "model_name": "LayoutModel",
          "state": {
            "_view_name": "LayoutView",
            "grid_template_rows": null,
            "right": null,
            "justify_content": null,
            "_view_module": "@jupyter-widgets/base",
            "overflow": null,
            "_model_module_version": "1.2.0",
            "_view_count": null,
            "flex_flow": null,
            "width": null,
            "min_width": null,
            "border": null,
            "align_items": null,
            "bottom": null,
            "_model_module": "@jupyter-widgets/base",
            "top": null,
            "grid_column": null,
            "overflow_y": null,
            "overflow_x": null,
            "grid_auto_flow": null,
            "grid_area": null,
            "grid_template_columns": null,
            "flex": null,
            "_model_name": "LayoutModel",
            "justify_items": null,
            "grid_row": null,
            "max_height": null,
            "align_content": null,
            "visibility": null,
            "align_self": null,
            "height": null,
            "min_height": null,
            "padding": null,
            "grid_auto_rows": null,
            "grid_gap": null,
            "max_width": null,
            "order": null,
            "_view_module_version": "1.2.0",
            "grid_template_areas": null,
            "object_position": null,
            "object_fit": null,
            "grid_auto_columns": null,
            "margin": null,
            "display": null,
            "left": null
          }
        },
        "53864a7992b54520b711989897129c55": {
          "model_module": "@jupyter-widgets/controls",
          "model_name": "DescriptionStyleModel",
          "state": {
            "_view_name": "StyleView",
            "_model_name": "DescriptionStyleModel",
            "description_width": "",
            "_view_module": "@jupyter-widgets/base",
            "_model_module_version": "1.5.0",
            "_view_count": null,
            "_view_module_version": "1.2.0",
            "_model_module": "@jupyter-widgets/controls"
          }
        },
        "0856a2a698264bcd84878d023ffa0ac5": {
          "model_module": "@jupyter-widgets/base",
          "model_name": "LayoutModel",
          "state": {
            "_view_name": "LayoutView",
            "grid_template_rows": null,
            "right": null,
            "justify_content": null,
            "_view_module": "@jupyter-widgets/base",
            "overflow": null,
            "_model_module_version": "1.2.0",
            "_view_count": null,
            "flex_flow": null,
            "width": null,
            "min_width": null,
            "border": null,
            "align_items": null,
            "bottom": null,
            "_model_module": "@jupyter-widgets/base",
            "top": null,
            "grid_column": null,
            "overflow_y": null,
            "overflow_x": null,
            "grid_auto_flow": null,
            "grid_area": null,
            "grid_template_columns": null,
            "flex": null,
            "_model_name": "LayoutModel",
            "justify_items": null,
            "grid_row": null,
            "max_height": null,
            "align_content": null,
            "visibility": null,
            "align_self": null,
            "height": null,
            "min_height": null,
            "padding": null,
            "grid_auto_rows": null,
            "grid_gap": null,
            "max_width": null,
            "order": null,
            "_view_module_version": "1.2.0",
            "grid_template_areas": null,
            "object_position": null,
            "object_fit": null,
            "grid_auto_columns": null,
            "margin": null,
            "display": null,
            "left": null
          }
        },
        "05af668a41194c4b93b14436ef9cc609": {
          "model_module": "@jupyter-widgets/controls",
          "model_name": "HBoxModel",
          "state": {
            "_view_name": "HBoxView",
            "_dom_classes": [],
            "_model_name": "HBoxModel",
            "_view_module": "@jupyter-widgets/controls",
            "_model_module_version": "1.5.0",
            "_view_count": null,
            "_view_module_version": "1.5.0",
            "box_style": "",
            "layout": "IPY_MODEL_7a5182f8b7be4d4e948a7b7c0d3e7e17",
            "_model_module": "@jupyter-widgets/controls",
            "children": [
              "IPY_MODEL_5d182a71c25e45ff949a8fa595ff8437",
              "IPY_MODEL_8aa8cd8fd07b4e539ef0d7a27ad0db30"
            ]
          }
        },
        "7a5182f8b7be4d4e948a7b7c0d3e7e17": {
          "model_module": "@jupyter-widgets/base",
          "model_name": "LayoutModel",
          "state": {
            "_view_name": "LayoutView",
            "grid_template_rows": null,
            "right": null,
            "justify_content": null,
            "_view_module": "@jupyter-widgets/base",
            "overflow": null,
            "_model_module_version": "1.2.0",
            "_view_count": null,
            "flex_flow": null,
            "width": null,
            "min_width": null,
            "border": null,
            "align_items": null,
            "bottom": null,
            "_model_module": "@jupyter-widgets/base",
            "top": null,
            "grid_column": null,
            "overflow_y": null,
            "overflow_x": null,
            "grid_auto_flow": null,
            "grid_area": null,
            "grid_template_columns": null,
            "flex": null,
            "_model_name": "LayoutModel",
            "justify_items": null,
            "grid_row": null,
            "max_height": null,
            "align_content": null,
            "visibility": null,
            "align_self": null,
            "height": null,
            "min_height": null,
            "padding": null,
            "grid_auto_rows": null,
            "grid_gap": null,
            "max_width": null,
            "order": null,
            "_view_module_version": "1.2.0",
            "grid_template_areas": null,
            "object_position": null,
            "object_fit": null,
            "grid_auto_columns": null,
            "margin": null,
            "display": null,
            "left": null
          }
        },
        "5d182a71c25e45ff949a8fa595ff8437": {
          "model_module": "@jupyter-widgets/controls",
          "model_name": "FloatProgressModel",
          "state": {
            "_view_name": "ProgressView",
            "style": "IPY_MODEL_41325b9e3e67475aa0511d833185b85f",
            "_dom_classes": [],
            "description": "",
            "_model_name": "FloatProgressModel",
            "bar_style": "info",
            "max": 1,
            "_view_module": "@jupyter-widgets/controls",
            "_model_module_version": "1.5.0",
            "value": 1,
            "_view_count": null,
            "_view_module_version": "1.5.0",
            "orientation": "horizontal",
            "min": 0,
            "description_tooltip": null,
            "_model_module": "@jupyter-widgets/controls",
            "layout": "IPY_MODEL_a052b2adae0e4505a67e5b4dfb79c983"
          }
        },
        "8aa8cd8fd07b4e539ef0d7a27ad0db30": {
          "model_module": "@jupyter-widgets/controls",
          "model_name": "HTMLModel",
          "state": {
            "_view_name": "HTMLView",
            "style": "IPY_MODEL_152581d86ec243a4ad61888ba431d044",
            "_dom_classes": [],
            "description": "",
            "_model_name": "HTMLModel",
            "placeholder": "​",
            "_view_module": "@jupyter-widgets/controls",
            "_model_module_version": "1.5.0",
            "value": " 25000/0 [00:11&lt;00:00, 3659.93 examples/s]",
            "_view_count": null,
            "_view_module_version": "1.5.0",
            "description_tooltip": null,
            "_model_module": "@jupyter-widgets/controls",
            "layout": "IPY_MODEL_8cfacdc518f248b0991f7d4a1c38aff0"
          }
        },
        "41325b9e3e67475aa0511d833185b85f": {
          "model_module": "@jupyter-widgets/controls",
          "model_name": "ProgressStyleModel",
          "state": {
            "_view_name": "StyleView",
            "_model_name": "ProgressStyleModel",
            "description_width": "initial",
            "_view_module": "@jupyter-widgets/base",
            "_model_module_version": "1.5.0",
            "_view_count": null,
            "_view_module_version": "1.2.0",
            "bar_color": null,
            "_model_module": "@jupyter-widgets/controls"
          }
        },
        "a052b2adae0e4505a67e5b4dfb79c983": {
          "model_module": "@jupyter-widgets/base",
          "model_name": "LayoutModel",
          "state": {
            "_view_name": "LayoutView",
            "grid_template_rows": null,
            "right": null,
            "justify_content": null,
            "_view_module": "@jupyter-widgets/base",
            "overflow": null,
            "_model_module_version": "1.2.0",
            "_view_count": null,
            "flex_flow": null,
            "width": null,
            "min_width": null,
            "border": null,
            "align_items": null,
            "bottom": null,
            "_model_module": "@jupyter-widgets/base",
            "top": null,
            "grid_column": null,
            "overflow_y": null,
            "overflow_x": null,
            "grid_auto_flow": null,
            "grid_area": null,
            "grid_template_columns": null,
            "flex": null,
            "_model_name": "LayoutModel",
            "justify_items": null,
            "grid_row": null,
            "max_height": null,
            "align_content": null,
            "visibility": null,
            "align_self": null,
            "height": null,
            "min_height": null,
            "padding": null,
            "grid_auto_rows": null,
            "grid_gap": null,
            "max_width": null,
            "order": null,
            "_view_module_version": "1.2.0",
            "grid_template_areas": null,
            "object_position": null,
            "object_fit": null,
            "grid_auto_columns": null,
            "margin": null,
            "display": null,
            "left": null
          }
        },
        "152581d86ec243a4ad61888ba431d044": {
          "model_module": "@jupyter-widgets/controls",
          "model_name": "DescriptionStyleModel",
          "state": {
            "_view_name": "StyleView",
            "_model_name": "DescriptionStyleModel",
            "description_width": "",
            "_view_module": "@jupyter-widgets/base",
            "_model_module_version": "1.5.0",
            "_view_count": null,
            "_view_module_version": "1.2.0",
            "_model_module": "@jupyter-widgets/controls"
          }
        },
        "8cfacdc518f248b0991f7d4a1c38aff0": {
          "model_module": "@jupyter-widgets/base",
          "model_name": "LayoutModel",
          "state": {
            "_view_name": "LayoutView",
            "grid_template_rows": null,
            "right": null,
            "justify_content": null,
            "_view_module": "@jupyter-widgets/base",
            "overflow": null,
            "_model_module_version": "1.2.0",
            "_view_count": null,
            "flex_flow": null,
            "width": null,
            "min_width": null,
            "border": null,
            "align_items": null,
            "bottom": null,
            "_model_module": "@jupyter-widgets/base",
            "top": null,
            "grid_column": null,
            "overflow_y": null,
            "overflow_x": null,
            "grid_auto_flow": null,
            "grid_area": null,
            "grid_template_columns": null,
            "flex": null,
            "_model_name": "LayoutModel",
            "justify_items": null,
            "grid_row": null,
            "max_height": null,
            "align_content": null,
            "visibility": null,
            "align_self": null,
            "height": null,
            "min_height": null,
            "padding": null,
            "grid_auto_rows": null,
            "grid_gap": null,
            "max_width": null,
            "order": null,
            "_view_module_version": "1.2.0",
            "grid_template_areas": null,
            "object_position": null,
            "object_fit": null,
            "grid_auto_columns": null,
            "margin": null,
            "display": null,
            "left": null
          }
        },
        "d49a702b3ecc4553937ca8da66ae74b1": {
          "model_module": "@jupyter-widgets/controls",
          "model_name": "HBoxModel",
          "state": {
            "_view_name": "HBoxView",
            "_dom_classes": [],
            "_model_name": "HBoxModel",
            "_view_module": "@jupyter-widgets/controls",
            "_model_module_version": "1.5.0",
            "_view_count": null,
            "_view_module_version": "1.5.0",
            "box_style": "",
            "layout": "IPY_MODEL_4a4db07be4044f05aef85ab104f1598e",
            "_model_module": "@jupyter-widgets/controls",
            "children": [
              "IPY_MODEL_e6e14360a27a433fa8e6712bf520bc12",
              "IPY_MODEL_1568406f33ed47a0b7eb02a74e3d9ee7"
            ]
          }
        },
        "4a4db07be4044f05aef85ab104f1598e": {
          "model_module": "@jupyter-widgets/base",
          "model_name": "LayoutModel",
          "state": {
            "_view_name": "LayoutView",
            "grid_template_rows": null,
            "right": null,
            "justify_content": null,
            "_view_module": "@jupyter-widgets/base",
            "overflow": null,
            "_model_module_version": "1.2.0",
            "_view_count": null,
            "flex_flow": null,
            "width": null,
            "min_width": null,
            "border": null,
            "align_items": null,
            "bottom": null,
            "_model_module": "@jupyter-widgets/base",
            "top": null,
            "grid_column": null,
            "overflow_y": null,
            "overflow_x": null,
            "grid_auto_flow": null,
            "grid_area": null,
            "grid_template_columns": null,
            "flex": null,
            "_model_name": "LayoutModel",
            "justify_items": null,
            "grid_row": null,
            "max_height": null,
            "align_content": null,
            "visibility": null,
            "align_self": null,
            "height": null,
            "min_height": null,
            "padding": null,
            "grid_auto_rows": null,
            "grid_gap": null,
            "max_width": null,
            "order": null,
            "_view_module_version": "1.2.0",
            "grid_template_areas": null,
            "object_position": null,
            "object_fit": null,
            "grid_auto_columns": null,
            "margin": null,
            "display": null,
            "left": null
          }
        },
        "e6e14360a27a433fa8e6712bf520bc12": {
          "model_module": "@jupyter-widgets/controls",
          "model_name": "FloatProgressModel",
          "state": {
            "_view_name": "ProgressView",
            "style": "IPY_MODEL_a666c4fa29e04963b120a0ecffe5c08d",
            "_dom_classes": [],
            "description": " 61%",
            "_model_name": "FloatProgressModel",
            "bar_style": "danger",
            "max": 25000,
            "_view_module": "@jupyter-widgets/controls",
            "_model_module_version": "1.5.0",
            "value": 15265,
            "_view_count": null,
            "_view_module_version": "1.5.0",
            "orientation": "horizontal",
            "min": 0,
            "description_tooltip": null,
            "_model_module": "@jupyter-widgets/controls",
            "layout": "IPY_MODEL_ed572b24f4834c9e8df0dc07dfe19122"
          }
        },
        "1568406f33ed47a0b7eb02a74e3d9ee7": {
          "model_module": "@jupyter-widgets/controls",
          "model_name": "HTMLModel",
          "state": {
            "_view_name": "HTMLView",
            "style": "IPY_MODEL_f871e8114b6841e798dec3921fc3fe43",
            "_dom_classes": [],
            "description": "",
            "_model_name": "HTMLModel",
            "placeholder": "​",
            "_view_module": "@jupyter-widgets/controls",
            "_model_module_version": "1.5.0",
            "value": " 15265/25000 [00:00&lt;00:00, 152644.69 examples/s]",
            "_view_count": null,
            "_view_module_version": "1.5.0",
            "description_tooltip": null,
            "_model_module": "@jupyter-widgets/controls",
            "layout": "IPY_MODEL_8e5ea4661a2146adb66ccb0adbb96e17"
          }
        },
        "a666c4fa29e04963b120a0ecffe5c08d": {
          "model_module": "@jupyter-widgets/controls",
          "model_name": "ProgressStyleModel",
          "state": {
            "_view_name": "StyleView",
            "_model_name": "ProgressStyleModel",
            "description_width": "initial",
            "_view_module": "@jupyter-widgets/base",
            "_model_module_version": "1.5.0",
            "_view_count": null,
            "_view_module_version": "1.2.0",
            "bar_color": null,
            "_model_module": "@jupyter-widgets/controls"
          }
        },
        "ed572b24f4834c9e8df0dc07dfe19122": {
          "model_module": "@jupyter-widgets/base",
          "model_name": "LayoutModel",
          "state": {
            "_view_name": "LayoutView",
            "grid_template_rows": null,
            "right": null,
            "justify_content": null,
            "_view_module": "@jupyter-widgets/base",
            "overflow": null,
            "_model_module_version": "1.2.0",
            "_view_count": null,
            "flex_flow": null,
            "width": null,
            "min_width": null,
            "border": null,
            "align_items": null,
            "bottom": null,
            "_model_module": "@jupyter-widgets/base",
            "top": null,
            "grid_column": null,
            "overflow_y": null,
            "overflow_x": null,
            "grid_auto_flow": null,
            "grid_area": null,
            "grid_template_columns": null,
            "flex": null,
            "_model_name": "LayoutModel",
            "justify_items": null,
            "grid_row": null,
            "max_height": null,
            "align_content": null,
            "visibility": null,
            "align_self": null,
            "height": null,
            "min_height": null,
            "padding": null,
            "grid_auto_rows": null,
            "grid_gap": null,
            "max_width": null,
            "order": null,
            "_view_module_version": "1.2.0",
            "grid_template_areas": null,
            "object_position": null,
            "object_fit": null,
            "grid_auto_columns": null,
            "margin": null,
            "display": null,
            "left": null
          }
        },
        "f871e8114b6841e798dec3921fc3fe43": {
          "model_module": "@jupyter-widgets/controls",
          "model_name": "DescriptionStyleModel",
          "state": {
            "_view_name": "StyleView",
            "_model_name": "DescriptionStyleModel",
            "description_width": "",
            "_view_module": "@jupyter-widgets/base",
            "_model_module_version": "1.5.0",
            "_view_count": null,
            "_view_module_version": "1.2.0",
            "_model_module": "@jupyter-widgets/controls"
          }
        },
        "8e5ea4661a2146adb66ccb0adbb96e17": {
          "model_module": "@jupyter-widgets/base",
          "model_name": "LayoutModel",
          "state": {
            "_view_name": "LayoutView",
            "grid_template_rows": null,
            "right": null,
            "justify_content": null,
            "_view_module": "@jupyter-widgets/base",
            "overflow": null,
            "_model_module_version": "1.2.0",
            "_view_count": null,
            "flex_flow": null,
            "width": null,
            "min_width": null,
            "border": null,
            "align_items": null,
            "bottom": null,
            "_model_module": "@jupyter-widgets/base",
            "top": null,
            "grid_column": null,
            "overflow_y": null,
            "overflow_x": null,
            "grid_auto_flow": null,
            "grid_area": null,
            "grid_template_columns": null,
            "flex": null,
            "_model_name": "LayoutModel",
            "justify_items": null,
            "grid_row": null,
            "max_height": null,
            "align_content": null,
            "visibility": null,
            "align_self": null,
            "height": null,
            "min_height": null,
            "padding": null,
            "grid_auto_rows": null,
            "grid_gap": null,
            "max_width": null,
            "order": null,
            "_view_module_version": "1.2.0",
            "grid_template_areas": null,
            "object_position": null,
            "object_fit": null,
            "grid_auto_columns": null,
            "margin": null,
            "display": null,
            "left": null
          }
        },
        "bd037185941c4b40bd120e335afe2fd8": {
          "model_module": "@jupyter-widgets/controls",
          "model_name": "HBoxModel",
          "state": {
            "_view_name": "HBoxView",
            "_dom_classes": [],
            "_model_name": "HBoxModel",
            "_view_module": "@jupyter-widgets/controls",
            "_model_module_version": "1.5.0",
            "_view_count": null,
            "_view_module_version": "1.5.0",
            "box_style": "",
            "layout": "IPY_MODEL_90efdf25ad614c498e3ea1aceb8435ab",
            "_model_module": "@jupyter-widgets/controls",
            "children": [
              "IPY_MODEL_afb7467374874609b7919dbe138459d2",
              "IPY_MODEL_c6ede391d729441097f7dae847dcc910"
            ]
          }
        },
        "90efdf25ad614c498e3ea1aceb8435ab": {
          "model_module": "@jupyter-widgets/base",
          "model_name": "LayoutModel",
          "state": {
            "_view_name": "LayoutView",
            "grid_template_rows": null,
            "right": null,
            "justify_content": null,
            "_view_module": "@jupyter-widgets/base",
            "overflow": null,
            "_model_module_version": "1.2.0",
            "_view_count": null,
            "flex_flow": null,
            "width": null,
            "min_width": null,
            "border": null,
            "align_items": null,
            "bottom": null,
            "_model_module": "@jupyter-widgets/base",
            "top": null,
            "grid_column": null,
            "overflow_y": null,
            "overflow_x": null,
            "grid_auto_flow": null,
            "grid_area": null,
            "grid_template_columns": null,
            "flex": null,
            "_model_name": "LayoutModel",
            "justify_items": null,
            "grid_row": null,
            "max_height": null,
            "align_content": null,
            "visibility": null,
            "align_self": null,
            "height": null,
            "min_height": null,
            "padding": null,
            "grid_auto_rows": null,
            "grid_gap": null,
            "max_width": null,
            "order": null,
            "_view_module_version": "1.2.0",
            "grid_template_areas": null,
            "object_position": null,
            "object_fit": null,
            "grid_auto_columns": null,
            "margin": null,
            "display": null,
            "left": null
          }
        },
        "afb7467374874609b7919dbe138459d2": {
          "model_module": "@jupyter-widgets/controls",
          "model_name": "FloatProgressModel",
          "state": {
            "_view_name": "ProgressView",
            "style": "IPY_MODEL_51e4939598cd4aca91d1d5315102bc0f",
            "_dom_classes": [],
            "description": "",
            "_model_name": "FloatProgressModel",
            "bar_style": "info",
            "max": 1,
            "_view_module": "@jupyter-widgets/controls",
            "_model_module_version": "1.5.0",
            "value": 1,
            "_view_count": null,
            "_view_module_version": "1.5.0",
            "orientation": "horizontal",
            "min": 0,
            "description_tooltip": null,
            "_model_module": "@jupyter-widgets/controls",
            "layout": "IPY_MODEL_62499d4a11754f8aa491f03a2e96e3c9"
          }
        },
        "c6ede391d729441097f7dae847dcc910": {
          "model_module": "@jupyter-widgets/controls",
          "model_name": "HTMLModel",
          "state": {
            "_view_name": "HTMLView",
            "style": "IPY_MODEL_e45df2fff8214cbf8cbd4d4bf6e0db76",
            "_dom_classes": [],
            "description": "",
            "_model_name": "HTMLModel",
            "placeholder": "​",
            "_view_module": "@jupyter-widgets/controls",
            "_model_module_version": "1.5.0",
            "value": " 25000/0 [00:11&lt;00:00, 3778.21 examples/s]",
            "_view_count": null,
            "_view_module_version": "1.5.0",
            "description_tooltip": null,
            "_model_module": "@jupyter-widgets/controls",
            "layout": "IPY_MODEL_5a05b57dfa5c40d08fe22f80923611c1"
          }
        },
        "51e4939598cd4aca91d1d5315102bc0f": {
          "model_module": "@jupyter-widgets/controls",
          "model_name": "ProgressStyleModel",
          "state": {
            "_view_name": "StyleView",
            "_model_name": "ProgressStyleModel",
            "description_width": "initial",
            "_view_module": "@jupyter-widgets/base",
            "_model_module_version": "1.5.0",
            "_view_count": null,
            "_view_module_version": "1.2.0",
            "bar_color": null,
            "_model_module": "@jupyter-widgets/controls"
          }
        },
        "62499d4a11754f8aa491f03a2e96e3c9": {
          "model_module": "@jupyter-widgets/base",
          "model_name": "LayoutModel",
          "state": {
            "_view_name": "LayoutView",
            "grid_template_rows": null,
            "right": null,
            "justify_content": null,
            "_view_module": "@jupyter-widgets/base",
            "overflow": null,
            "_model_module_version": "1.2.0",
            "_view_count": null,
            "flex_flow": null,
            "width": null,
            "min_width": null,
            "border": null,
            "align_items": null,
            "bottom": null,
            "_model_module": "@jupyter-widgets/base",
            "top": null,
            "grid_column": null,
            "overflow_y": null,
            "overflow_x": null,
            "grid_auto_flow": null,
            "grid_area": null,
            "grid_template_columns": null,
            "flex": null,
            "_model_name": "LayoutModel",
            "justify_items": null,
            "grid_row": null,
            "max_height": null,
            "align_content": null,
            "visibility": null,
            "align_self": null,
            "height": null,
            "min_height": null,
            "padding": null,
            "grid_auto_rows": null,
            "grid_gap": null,
            "max_width": null,
            "order": null,
            "_view_module_version": "1.2.0",
            "grid_template_areas": null,
            "object_position": null,
            "object_fit": null,
            "grid_auto_columns": null,
            "margin": null,
            "display": null,
            "left": null
          }
        },
        "e45df2fff8214cbf8cbd4d4bf6e0db76": {
          "model_module": "@jupyter-widgets/controls",
          "model_name": "DescriptionStyleModel",
          "state": {
            "_view_name": "StyleView",
            "_model_name": "DescriptionStyleModel",
            "description_width": "",
            "_view_module": "@jupyter-widgets/base",
            "_model_module_version": "1.5.0",
            "_view_count": null,
            "_view_module_version": "1.2.0",
            "_model_module": "@jupyter-widgets/controls"
          }
        },
        "5a05b57dfa5c40d08fe22f80923611c1": {
          "model_module": "@jupyter-widgets/base",
          "model_name": "LayoutModel",
          "state": {
            "_view_name": "LayoutView",
            "grid_template_rows": null,
            "right": null,
            "justify_content": null,
            "_view_module": "@jupyter-widgets/base",
            "overflow": null,
            "_model_module_version": "1.2.0",
            "_view_count": null,
            "flex_flow": null,
            "width": null,
            "min_width": null,
            "border": null,
            "align_items": null,
            "bottom": null,
            "_model_module": "@jupyter-widgets/base",
            "top": null,
            "grid_column": null,
            "overflow_y": null,
            "overflow_x": null,
            "grid_auto_flow": null,
            "grid_area": null,
            "grid_template_columns": null,
            "flex": null,
            "_model_name": "LayoutModel",
            "justify_items": null,
            "grid_row": null,
            "max_height": null,
            "align_content": null,
            "visibility": null,
            "align_self": null,
            "height": null,
            "min_height": null,
            "padding": null,
            "grid_auto_rows": null,
            "grid_gap": null,
            "max_width": null,
            "order": null,
            "_view_module_version": "1.2.0",
            "grid_template_areas": null,
            "object_position": null,
            "object_fit": null,
            "grid_auto_columns": null,
            "margin": null,
            "display": null,
            "left": null
          }
        },
        "fe7437f1183e4443922b90b4aef2ff17": {
          "model_module": "@jupyter-widgets/controls",
          "model_name": "HBoxModel",
          "state": {
            "_view_name": "HBoxView",
            "_dom_classes": [],
            "_model_name": "HBoxModel",
            "_view_module": "@jupyter-widgets/controls",
            "_model_module_version": "1.5.0",
            "_view_count": null,
            "_view_module_version": "1.5.0",
            "box_style": "",
            "layout": "IPY_MODEL_4f1856ca12d043b09a44386624e62904",
            "_model_module": "@jupyter-widgets/controls",
            "children": [
              "IPY_MODEL_fe93f675daf04c52a446e0448eeab021",
              "IPY_MODEL_367d6fd76f1d4adfab6d891e55316a09"
            ]
          }
        },
        "4f1856ca12d043b09a44386624e62904": {
          "model_module": "@jupyter-widgets/base",
          "model_name": "LayoutModel",
          "state": {
            "_view_name": "LayoutView",
            "grid_template_rows": null,
            "right": null,
            "justify_content": null,
            "_view_module": "@jupyter-widgets/base",
            "overflow": null,
            "_model_module_version": "1.2.0",
            "_view_count": null,
            "flex_flow": null,
            "width": null,
            "min_width": null,
            "border": null,
            "align_items": null,
            "bottom": null,
            "_model_module": "@jupyter-widgets/base",
            "top": null,
            "grid_column": null,
            "overflow_y": null,
            "overflow_x": null,
            "grid_auto_flow": null,
            "grid_area": null,
            "grid_template_columns": null,
            "flex": null,
            "_model_name": "LayoutModel",
            "justify_items": null,
            "grid_row": null,
            "max_height": null,
            "align_content": null,
            "visibility": null,
            "align_self": null,
            "height": null,
            "min_height": null,
            "padding": null,
            "grid_auto_rows": null,
            "grid_gap": null,
            "max_width": null,
            "order": null,
            "_view_module_version": "1.2.0",
            "grid_template_areas": null,
            "object_position": null,
            "object_fit": null,
            "grid_auto_columns": null,
            "margin": null,
            "display": null,
            "left": null
          }
        },
        "fe93f675daf04c52a446e0448eeab021": {
          "model_module": "@jupyter-widgets/controls",
          "model_name": "FloatProgressModel",
          "state": {
            "_view_name": "ProgressView",
            "style": "IPY_MODEL_a67fbc2e2ea44962857a556a375d40d4",
            "_dom_classes": [],
            "description": " 68%",
            "_model_name": "FloatProgressModel",
            "bar_style": "danger",
            "max": 25000,
            "_view_module": "@jupyter-widgets/controls",
            "_model_module_version": "1.5.0",
            "value": 17052,
            "_view_count": null,
            "_view_module_version": "1.5.0",
            "orientation": "horizontal",
            "min": 0,
            "description_tooltip": null,
            "_model_module": "@jupyter-widgets/controls",
            "layout": "IPY_MODEL_00573649716347a79a50a4fb68485cc9"
          }
        },
        "367d6fd76f1d4adfab6d891e55316a09": {
          "model_module": "@jupyter-widgets/controls",
          "model_name": "HTMLModel",
          "state": {
            "_view_name": "HTMLView",
            "style": "IPY_MODEL_5f483e74e89c4a27b6b406b80772eab8",
            "_dom_classes": [],
            "description": "",
            "_model_name": "HTMLModel",
            "placeholder": "​",
            "_view_module": "@jupyter-widgets/controls",
            "_model_module_version": "1.5.0",
            "value": " 17052/25000 [00:00&lt;00:00, 170519.76 examples/s]",
            "_view_count": null,
            "_view_module_version": "1.5.0",
            "description_tooltip": null,
            "_model_module": "@jupyter-widgets/controls",
            "layout": "IPY_MODEL_ef776f8b27574ff0a28b2db02da3b571"
          }
        },
        "a67fbc2e2ea44962857a556a375d40d4": {
          "model_module": "@jupyter-widgets/controls",
          "model_name": "ProgressStyleModel",
          "state": {
            "_view_name": "StyleView",
            "_model_name": "ProgressStyleModel",
            "description_width": "initial",
            "_view_module": "@jupyter-widgets/base",
            "_model_module_version": "1.5.0",
            "_view_count": null,
            "_view_module_version": "1.2.0",
            "bar_color": null,
            "_model_module": "@jupyter-widgets/controls"
          }
        },
        "00573649716347a79a50a4fb68485cc9": {
          "model_module": "@jupyter-widgets/base",
          "model_name": "LayoutModel",
          "state": {
            "_view_name": "LayoutView",
            "grid_template_rows": null,
            "right": null,
            "justify_content": null,
            "_view_module": "@jupyter-widgets/base",
            "overflow": null,
            "_model_module_version": "1.2.0",
            "_view_count": null,
            "flex_flow": null,
            "width": null,
            "min_width": null,
            "border": null,
            "align_items": null,
            "bottom": null,
            "_model_module": "@jupyter-widgets/base",
            "top": null,
            "grid_column": null,
            "overflow_y": null,
            "overflow_x": null,
            "grid_auto_flow": null,
            "grid_area": null,
            "grid_template_columns": null,
            "flex": null,
            "_model_name": "LayoutModel",
            "justify_items": null,
            "grid_row": null,
            "max_height": null,
            "align_content": null,
            "visibility": null,
            "align_self": null,
            "height": null,
            "min_height": null,
            "padding": null,
            "grid_auto_rows": null,
            "grid_gap": null,
            "max_width": null,
            "order": null,
            "_view_module_version": "1.2.0",
            "grid_template_areas": null,
            "object_position": null,
            "object_fit": null,
            "grid_auto_columns": null,
            "margin": null,
            "display": null,
            "left": null
          }
        },
        "5f483e74e89c4a27b6b406b80772eab8": {
          "model_module": "@jupyter-widgets/controls",
          "model_name": "DescriptionStyleModel",
          "state": {
            "_view_name": "StyleView",
            "_model_name": "DescriptionStyleModel",
            "description_width": "",
            "_view_module": "@jupyter-widgets/base",
            "_model_module_version": "1.5.0",
            "_view_count": null,
            "_view_module_version": "1.2.0",
            "_model_module": "@jupyter-widgets/controls"
          }
        },
        "ef776f8b27574ff0a28b2db02da3b571": {
          "model_module": "@jupyter-widgets/base",
          "model_name": "LayoutModel",
          "state": {
            "_view_name": "LayoutView",
            "grid_template_rows": null,
            "right": null,
            "justify_content": null,
            "_view_module": "@jupyter-widgets/base",
            "overflow": null,
            "_model_module_version": "1.2.0",
            "_view_count": null,
            "flex_flow": null,
            "width": null,
            "min_width": null,
            "border": null,
            "align_items": null,
            "bottom": null,
            "_model_module": "@jupyter-widgets/base",
            "top": null,
            "grid_column": null,
            "overflow_y": null,
            "overflow_x": null,
            "grid_auto_flow": null,
            "grid_area": null,
            "grid_template_columns": null,
            "flex": null,
            "_model_name": "LayoutModel",
            "justify_items": null,
            "grid_row": null,
            "max_height": null,
            "align_content": null,
            "visibility": null,
            "align_self": null,
            "height": null,
            "min_height": null,
            "padding": null,
            "grid_auto_rows": null,
            "grid_gap": null,
            "max_width": null,
            "order": null,
            "_view_module_version": "1.2.0",
            "grid_template_areas": null,
            "object_position": null,
            "object_fit": null,
            "grid_auto_columns": null,
            "margin": null,
            "display": null,
            "left": null
          }
        },
        "f7c95ab367e54515a32046e445783008": {
          "model_module": "@jupyter-widgets/controls",
          "model_name": "HBoxModel",
          "state": {
            "_view_name": "HBoxView",
            "_dom_classes": [],
            "_model_name": "HBoxModel",
            "_view_module": "@jupyter-widgets/controls",
            "_model_module_version": "1.5.0",
            "_view_count": null,
            "_view_module_version": "1.5.0",
            "box_style": "",
            "layout": "IPY_MODEL_6a8b7a0d365946c9850090ba55b0f340",
            "_model_module": "@jupyter-widgets/controls",
            "children": [
              "IPY_MODEL_aaeba72395c340f5813171b470893b94",
              "IPY_MODEL_566a401eb9c94fa781cb02742f7726ea"
            ]
          }
        },
        "6a8b7a0d365946c9850090ba55b0f340": {
          "model_module": "@jupyter-widgets/base",
          "model_name": "LayoutModel",
          "state": {
            "_view_name": "LayoutView",
            "grid_template_rows": null,
            "right": null,
            "justify_content": null,
            "_view_module": "@jupyter-widgets/base",
            "overflow": null,
            "_model_module_version": "1.2.0",
            "_view_count": null,
            "flex_flow": null,
            "width": null,
            "min_width": null,
            "border": null,
            "align_items": null,
            "bottom": null,
            "_model_module": "@jupyter-widgets/base",
            "top": null,
            "grid_column": null,
            "overflow_y": null,
            "overflow_x": null,
            "grid_auto_flow": null,
            "grid_area": null,
            "grid_template_columns": null,
            "flex": null,
            "_model_name": "LayoutModel",
            "justify_items": null,
            "grid_row": null,
            "max_height": null,
            "align_content": null,
            "visibility": null,
            "align_self": null,
            "height": null,
            "min_height": null,
            "padding": null,
            "grid_auto_rows": null,
            "grid_gap": null,
            "max_width": null,
            "order": null,
            "_view_module_version": "1.2.0",
            "grid_template_areas": null,
            "object_position": null,
            "object_fit": null,
            "grid_auto_columns": null,
            "margin": null,
            "display": null,
            "left": null
          }
        },
        "aaeba72395c340f5813171b470893b94": {
          "model_module": "@jupyter-widgets/controls",
          "model_name": "FloatProgressModel",
          "state": {
            "_view_name": "ProgressView",
            "style": "IPY_MODEL_087fec33bdbc4496bda0ceac7f0ff4a2",
            "_dom_classes": [],
            "description": "",
            "_model_name": "FloatProgressModel",
            "bar_style": "info",
            "max": 1,
            "_view_module": "@jupyter-widgets/controls",
            "_model_module_version": "1.5.0",
            "value": 1,
            "_view_count": null,
            "_view_module_version": "1.5.0",
            "orientation": "horizontal",
            "min": 0,
            "description_tooltip": null,
            "_model_module": "@jupyter-widgets/controls",
            "layout": "IPY_MODEL_4ba9a4c1e0d74e899f7ef530b8ed4e72"
          }
        },
        "566a401eb9c94fa781cb02742f7726ea": {
          "model_module": "@jupyter-widgets/controls",
          "model_name": "HTMLModel",
          "state": {
            "_view_name": "HTMLView",
            "style": "IPY_MODEL_6f940a4e3e7342eca23adccbb0a7d6db",
            "_dom_classes": [],
            "description": "",
            "_model_name": "HTMLModel",
            "placeholder": "​",
            "_view_module": "@jupyter-widgets/controls",
            "_model_module_version": "1.5.0",
            "value": " 50000/0 [00:17&lt;00:00, 3416.65 examples/s]",
            "_view_count": null,
            "_view_module_version": "1.5.0",
            "description_tooltip": null,
            "_model_module": "@jupyter-widgets/controls",
            "layout": "IPY_MODEL_59778b5a552145dab09baf0fcc090ec4"
          }
        },
        "087fec33bdbc4496bda0ceac7f0ff4a2": {
          "model_module": "@jupyter-widgets/controls",
          "model_name": "ProgressStyleModel",
          "state": {
            "_view_name": "StyleView",
            "_model_name": "ProgressStyleModel",
            "description_width": "initial",
            "_view_module": "@jupyter-widgets/base",
            "_model_module_version": "1.5.0",
            "_view_count": null,
            "_view_module_version": "1.2.0",
            "bar_color": null,
            "_model_module": "@jupyter-widgets/controls"
          }
        },
        "4ba9a4c1e0d74e899f7ef530b8ed4e72": {
          "model_module": "@jupyter-widgets/base",
          "model_name": "LayoutModel",
          "state": {
            "_view_name": "LayoutView",
            "grid_template_rows": null,
            "right": null,
            "justify_content": null,
            "_view_module": "@jupyter-widgets/base",
            "overflow": null,
            "_model_module_version": "1.2.0",
            "_view_count": null,
            "flex_flow": null,
            "width": null,
            "min_width": null,
            "border": null,
            "align_items": null,
            "bottom": null,
            "_model_module": "@jupyter-widgets/base",
            "top": null,
            "grid_column": null,
            "overflow_y": null,
            "overflow_x": null,
            "grid_auto_flow": null,
            "grid_area": null,
            "grid_template_columns": null,
            "flex": null,
            "_model_name": "LayoutModel",
            "justify_items": null,
            "grid_row": null,
            "max_height": null,
            "align_content": null,
            "visibility": null,
            "align_self": null,
            "height": null,
            "min_height": null,
            "padding": null,
            "grid_auto_rows": null,
            "grid_gap": null,
            "max_width": null,
            "order": null,
            "_view_module_version": "1.2.0",
            "grid_template_areas": null,
            "object_position": null,
            "object_fit": null,
            "grid_auto_columns": null,
            "margin": null,
            "display": null,
            "left": null
          }
        },
        "6f940a4e3e7342eca23adccbb0a7d6db": {
          "model_module": "@jupyter-widgets/controls",
          "model_name": "DescriptionStyleModel",
          "state": {
            "_view_name": "StyleView",
            "_model_name": "DescriptionStyleModel",
            "description_width": "",
            "_view_module": "@jupyter-widgets/base",
            "_model_module_version": "1.5.0",
            "_view_count": null,
            "_view_module_version": "1.2.0",
            "_model_module": "@jupyter-widgets/controls"
          }
        },
        "59778b5a552145dab09baf0fcc090ec4": {
          "model_module": "@jupyter-widgets/base",
          "model_name": "LayoutModel",
          "state": {
            "_view_name": "LayoutView",
            "grid_template_rows": null,
            "right": null,
            "justify_content": null,
            "_view_module": "@jupyter-widgets/base",
            "overflow": null,
            "_model_module_version": "1.2.0",
            "_view_count": null,
            "flex_flow": null,
            "width": null,
            "min_width": null,
            "border": null,
            "align_items": null,
            "bottom": null,
            "_model_module": "@jupyter-widgets/base",
            "top": null,
            "grid_column": null,
            "overflow_y": null,
            "overflow_x": null,
            "grid_auto_flow": null,
            "grid_area": null,
            "grid_template_columns": null,
            "flex": null,
            "_model_name": "LayoutModel",
            "justify_items": null,
            "grid_row": null,
            "max_height": null,
            "align_content": null,
            "visibility": null,
            "align_self": null,
            "height": null,
            "min_height": null,
            "padding": null,
            "grid_auto_rows": null,
            "grid_gap": null,
            "max_width": null,
            "order": null,
            "_view_module_version": "1.2.0",
            "grid_template_areas": null,
            "object_position": null,
            "object_fit": null,
            "grid_auto_columns": null,
            "margin": null,
            "display": null,
            "left": null
          }
        },
        "1a720672291b4837807becbf93e3a6b4": {
          "model_module": "@jupyter-widgets/controls",
          "model_name": "HBoxModel",
          "state": {
            "_view_name": "HBoxView",
            "_dom_classes": [],
            "_model_name": "HBoxModel",
            "_view_module": "@jupyter-widgets/controls",
            "_model_module_version": "1.5.0",
            "_view_count": null,
            "_view_module_version": "1.5.0",
            "box_style": "",
            "layout": "IPY_MODEL_729945dcfbf64deea70350af29cdd6ce",
            "_model_module": "@jupyter-widgets/controls",
            "children": [
              "IPY_MODEL_f23e3ce96a544ac2a23a47e55ab3c6ad",
              "IPY_MODEL_f6823109b2644a35b0af9efbed424005"
            ]
          }
        },
        "729945dcfbf64deea70350af29cdd6ce": {
          "model_module": "@jupyter-widgets/base",
          "model_name": "LayoutModel",
          "state": {
            "_view_name": "LayoutView",
            "grid_template_rows": null,
            "right": null,
            "justify_content": null,
            "_view_module": "@jupyter-widgets/base",
            "overflow": null,
            "_model_module_version": "1.2.0",
            "_view_count": null,
            "flex_flow": null,
            "width": null,
            "min_width": null,
            "border": null,
            "align_items": null,
            "bottom": null,
            "_model_module": "@jupyter-widgets/base",
            "top": null,
            "grid_column": null,
            "overflow_y": null,
            "overflow_x": null,
            "grid_auto_flow": null,
            "grid_area": null,
            "grid_template_columns": null,
            "flex": null,
            "_model_name": "LayoutModel",
            "justify_items": null,
            "grid_row": null,
            "max_height": null,
            "align_content": null,
            "visibility": null,
            "align_self": null,
            "height": null,
            "min_height": null,
            "padding": null,
            "grid_auto_rows": null,
            "grid_gap": null,
            "max_width": null,
            "order": null,
            "_view_module_version": "1.2.0",
            "grid_template_areas": null,
            "object_position": null,
            "object_fit": null,
            "grid_auto_columns": null,
            "margin": null,
            "display": null,
            "left": null
          }
        },
        "f23e3ce96a544ac2a23a47e55ab3c6ad": {
          "model_module": "@jupyter-widgets/controls",
          "model_name": "FloatProgressModel",
          "state": {
            "_view_name": "ProgressView",
            "style": "IPY_MODEL_b9f119e2f3ee464ba667319d1fc3ead6",
            "_dom_classes": [],
            "description": " 92%",
            "_model_name": "FloatProgressModel",
            "bar_style": "danger",
            "max": 50000,
            "_view_module": "@jupyter-widgets/controls",
            "_model_module_version": "1.5.0",
            "value": 46165,
            "_view_count": null,
            "_view_module_version": "1.5.0",
            "orientation": "horizontal",
            "min": 0,
            "description_tooltip": null,
            "_model_module": "@jupyter-widgets/controls",
            "layout": "IPY_MODEL_9671ad3826ff4517876d75e4ea42546c"
          }
        },
        "f6823109b2644a35b0af9efbed424005": {
          "model_module": "@jupyter-widgets/controls",
          "model_name": "HTMLModel",
          "state": {
            "_view_name": "HTMLView",
            "style": "IPY_MODEL_f4fd3db0ca584b3d8e90408dd0140e3f",
            "_dom_classes": [],
            "description": "",
            "_model_name": "HTMLModel",
            "placeholder": "​",
            "_view_module": "@jupyter-widgets/controls",
            "_model_module_version": "1.5.0",
            "value": " 46165/50000 [00:08&lt;00:00, 68303.97 examples/s]",
            "_view_count": null,
            "_view_module_version": "1.5.0",
            "description_tooltip": null,
            "_model_module": "@jupyter-widgets/controls",
            "layout": "IPY_MODEL_d7cca7a0242d413a83d4bd71692ec9ba"
          }
        },
        "b9f119e2f3ee464ba667319d1fc3ead6": {
          "model_module": "@jupyter-widgets/controls",
          "model_name": "ProgressStyleModel",
          "state": {
            "_view_name": "StyleView",
            "_model_name": "ProgressStyleModel",
            "description_width": "initial",
            "_view_module": "@jupyter-widgets/base",
            "_model_module_version": "1.5.0",
            "_view_count": null,
            "_view_module_version": "1.2.0",
            "bar_color": null,
            "_model_module": "@jupyter-widgets/controls"
          }
        },
        "9671ad3826ff4517876d75e4ea42546c": {
          "model_module": "@jupyter-widgets/base",
          "model_name": "LayoutModel",
          "state": {
            "_view_name": "LayoutView",
            "grid_template_rows": null,
            "right": null,
            "justify_content": null,
            "_view_module": "@jupyter-widgets/base",
            "overflow": null,
            "_model_module_version": "1.2.0",
            "_view_count": null,
            "flex_flow": null,
            "width": null,
            "min_width": null,
            "border": null,
            "align_items": null,
            "bottom": null,
            "_model_module": "@jupyter-widgets/base",
            "top": null,
            "grid_column": null,
            "overflow_y": null,
            "overflow_x": null,
            "grid_auto_flow": null,
            "grid_area": null,
            "grid_template_columns": null,
            "flex": null,
            "_model_name": "LayoutModel",
            "justify_items": null,
            "grid_row": null,
            "max_height": null,
            "align_content": null,
            "visibility": null,
            "align_self": null,
            "height": null,
            "min_height": null,
            "padding": null,
            "grid_auto_rows": null,
            "grid_gap": null,
            "max_width": null,
            "order": null,
            "_view_module_version": "1.2.0",
            "grid_template_areas": null,
            "object_position": null,
            "object_fit": null,
            "grid_auto_columns": null,
            "margin": null,
            "display": null,
            "left": null
          }
        },
        "f4fd3db0ca584b3d8e90408dd0140e3f": {
          "model_module": "@jupyter-widgets/controls",
          "model_name": "DescriptionStyleModel",
          "state": {
            "_view_name": "StyleView",
            "_model_name": "DescriptionStyleModel",
            "description_width": "",
            "_view_module": "@jupyter-widgets/base",
            "_model_module_version": "1.5.0",
            "_view_count": null,
            "_view_module_version": "1.2.0",
            "_model_module": "@jupyter-widgets/controls"
          }
        },
        "d7cca7a0242d413a83d4bd71692ec9ba": {
          "model_module": "@jupyter-widgets/base",
          "model_name": "LayoutModel",
          "state": {
            "_view_name": "LayoutView",
            "grid_template_rows": null,
            "right": null,
            "justify_content": null,
            "_view_module": "@jupyter-widgets/base",
            "overflow": null,
            "_model_module_version": "1.2.0",
            "_view_count": null,
            "flex_flow": null,
            "width": null,
            "min_width": null,
            "border": null,
            "align_items": null,
            "bottom": null,
            "_model_module": "@jupyter-widgets/base",
            "top": null,
            "grid_column": null,
            "overflow_y": null,
            "overflow_x": null,
            "grid_auto_flow": null,
            "grid_area": null,
            "grid_template_columns": null,
            "flex": null,
            "_model_name": "LayoutModel",
            "justify_items": null,
            "grid_row": null,
            "max_height": null,
            "align_content": null,
            "visibility": null,
            "align_self": null,
            "height": null,
            "min_height": null,
            "padding": null,
            "grid_auto_rows": null,
            "grid_gap": null,
            "max_width": null,
            "order": null,
            "_view_module_version": "1.2.0",
            "grid_template_areas": null,
            "object_position": null,
            "object_fit": null,
            "grid_auto_columns": null,
            "margin": null,
            "display": null,
            "left": null
          }
        }
      }
    }
  },
  "cells": [
    {
      "cell_type": "markdown",
      "metadata": {
        "id": "view-in-github",
        "colab_type": "text"
      },
      "source": [
        "<a href=\"https://colab.research.google.com/github/josearangos/TensorFlow-in-Practice/blob/master/3.%20Natural%20Language%20Processing/IMDB_Reviews_with_GRU_(and_optional_LSTM_and_Conv1D).ipynb\" target=\"_parent\"><img src=\"https://colab.research.google.com/assets/colab-badge.svg\" alt=\"Open In Colab\"/></a>"
      ]
    },
    {
      "cell_type": "code",
      "metadata": {
        "id": "zX4Kg8DUTKWO",
        "colab_type": "code",
        "colab": {}
      },
      "source": [
        "#@title Licensed under the Apache License, Version 2.0 (the \"License\");\n",
        "# you may not use this file except in compliance with the License.\n",
        "# You may obtain a copy of the License at\n",
        "#\n",
        "# https://www.apache.org/licenses/LICENSE-2.0\n",
        "#\n",
        "# Unless required by applicable law or agreed to in writing, software\n",
        "# distributed under the License is distributed on an \"AS IS\" BASIS,\n",
        "# WITHOUT WARRANTIES OR CONDITIONS OF ANY KIND, either express or implied.\n",
        "# See the License for the specific language governing permissions and\n",
        "# limitations under the License."
      ],
      "execution_count": 1,
      "outputs": []
    },
    {
      "cell_type": "code",
      "metadata": {
        "colab_type": "code",
        "id": "P-AhVYeBWgQ3",
        "colab": {
          "base_uri": "https://localhost:8080/",
          "height": 34
        },
        "outputId": "84785e0a-63a8-4f08-e78a-bb8752dfbfbd"
      },
      "source": [
        "import tensorflow as tf\n",
        "print(tf.__version__)\n",
        "\n",
        "# !pip install -q tensorflow-datasets"
      ],
      "execution_count": 2,
      "outputs": [
        {
          "output_type": "stream",
          "text": [
            "2.2.0\n"
          ],
          "name": "stdout"
        }
      ]
    },
    {
      "cell_type": "code",
      "metadata": {
        "colab_type": "code",
        "id": "_IoM4VFxWpMR",
        "colab": {
          "base_uri": "https://localhost:8080/",
          "height": 412,
          "referenced_widgets": [
            "bb0d9cee32ff4ff1996e31dba05eb77f",
            "cb73eaa4b6b84f75a94fa100ac220ed7",
            "e0d80a667ed7470893d999668603507d",
            "f3cad18869f241f59190403f3ea49e4f",
            "dd55ab9665e94b1bb5fb9a242f27efe1",
            "7f5e829fa3c64682901c94eecab0bf1f",
            "ed295b798edf4a90b0c5abb223985784",
            "7fef958236914f4da0d6ce7a8013c601",
            "01ec916fee2d4cc992c4dc0719e0f535",
            "854900ec585a4246a8491799f0b03001",
            "530d0134eeb44e278998a8f884e75354",
            "aee271eacb82418d9391c3712818d3be",
            "8124894b93c14a0491202ce9c77dc3c2",
            "ce7aff08be674dab8f7d2342c06f0f7a",
            "53864a7992b54520b711989897129c55",
            "0856a2a698264bcd84878d023ffa0ac5",
            "05af668a41194c4b93b14436ef9cc609",
            "7a5182f8b7be4d4e948a7b7c0d3e7e17",
            "5d182a71c25e45ff949a8fa595ff8437",
            "8aa8cd8fd07b4e539ef0d7a27ad0db30",
            "41325b9e3e67475aa0511d833185b85f",
            "a052b2adae0e4505a67e5b4dfb79c983",
            "152581d86ec243a4ad61888ba431d044",
            "8cfacdc518f248b0991f7d4a1c38aff0",
            "d49a702b3ecc4553937ca8da66ae74b1",
            "4a4db07be4044f05aef85ab104f1598e",
            "e6e14360a27a433fa8e6712bf520bc12",
            "1568406f33ed47a0b7eb02a74e3d9ee7",
            "a666c4fa29e04963b120a0ecffe5c08d",
            "ed572b24f4834c9e8df0dc07dfe19122",
            "f871e8114b6841e798dec3921fc3fe43",
            "8e5ea4661a2146adb66ccb0adbb96e17",
            "bd037185941c4b40bd120e335afe2fd8",
            "90efdf25ad614c498e3ea1aceb8435ab",
            "afb7467374874609b7919dbe138459d2",
            "c6ede391d729441097f7dae847dcc910",
            "51e4939598cd4aca91d1d5315102bc0f",
            "62499d4a11754f8aa491f03a2e96e3c9",
            "e45df2fff8214cbf8cbd4d4bf6e0db76",
            "5a05b57dfa5c40d08fe22f80923611c1",
            "fe7437f1183e4443922b90b4aef2ff17",
            "4f1856ca12d043b09a44386624e62904",
            "fe93f675daf04c52a446e0448eeab021",
            "367d6fd76f1d4adfab6d891e55316a09",
            "a67fbc2e2ea44962857a556a375d40d4",
            "00573649716347a79a50a4fb68485cc9",
            "5f483e74e89c4a27b6b406b80772eab8",
            "ef776f8b27574ff0a28b2db02da3b571",
            "f7c95ab367e54515a32046e445783008",
            "6a8b7a0d365946c9850090ba55b0f340",
            "aaeba72395c340f5813171b470893b94",
            "566a401eb9c94fa781cb02742f7726ea",
            "087fec33bdbc4496bda0ceac7f0ff4a2",
            "4ba9a4c1e0d74e899f7ef530b8ed4e72",
            "6f940a4e3e7342eca23adccbb0a7d6db",
            "59778b5a552145dab09baf0fcc090ec4",
            "1a720672291b4837807becbf93e3a6b4",
            "729945dcfbf64deea70350af29cdd6ce",
            "f23e3ce96a544ac2a23a47e55ab3c6ad",
            "f6823109b2644a35b0af9efbed424005",
            "b9f119e2f3ee464ba667319d1fc3ead6",
            "9671ad3826ff4517876d75e4ea42546c",
            "f4fd3db0ca584b3d8e90408dd0140e3f",
            "d7cca7a0242d413a83d4bd71692ec9ba"
          ]
        },
        "outputId": "3797efda-72c4-4a3d-eab1-1a19387f0f5b"
      },
      "source": [
        "import tensorflow_datasets as tfds\n",
        "imdb, info = tfds.load(\"imdb_reviews\", with_info=True, as_supervised=True)\n"
      ],
      "execution_count": 3,
      "outputs": [
        {
          "output_type": "stream",
          "text": [
            "\u001b[1mDownloading and preparing dataset imdb_reviews/plain_text/1.0.0 (download: 80.23 MiB, generated: Unknown size, total: 80.23 MiB) to /root/tensorflow_datasets/imdb_reviews/plain_text/1.0.0...\u001b[0m\n"
          ],
          "name": "stdout"
        },
        {
          "output_type": "display_data",
          "data": {
            "application/vnd.jupyter.widget-view+json": {
              "model_id": "bb0d9cee32ff4ff1996e31dba05eb77f",
              "version_minor": 0,
              "version_major": 2
            },
            "text/plain": [
              "HBox(children=(FloatProgress(value=1.0, bar_style='info', description='Dl Completed...', max=1.0, style=Progre…"
            ]
          },
          "metadata": {
            "tags": []
          }
        },
        {
          "output_type": "display_data",
          "data": {
            "application/vnd.jupyter.widget-view+json": {
              "model_id": "01ec916fee2d4cc992c4dc0719e0f535",
              "version_minor": 0,
              "version_major": 2
            },
            "text/plain": [
              "HBox(children=(FloatProgress(value=1.0, bar_style='info', description='Dl Size...', max=1.0, style=ProgressSty…"
            ]
          },
          "metadata": {
            "tags": []
          }
        },
        {
          "output_type": "stream",
          "text": [
            "\n",
            "\n",
            "\n",
            "\n"
          ],
          "name": "stdout"
        },
        {
          "output_type": "display_data",
          "data": {
            "application/vnd.jupyter.widget-view+json": {
              "model_id": "05af668a41194c4b93b14436ef9cc609",
              "version_minor": 0,
              "version_major": 2
            },
            "text/plain": [
              "HBox(children=(FloatProgress(value=1.0, bar_style='info', max=1.0), HTML(value='')))"
            ]
          },
          "metadata": {
            "tags": []
          }
        },
        {
          "output_type": "stream",
          "text": [
            "\rShuffling and writing examples to /root/tensorflow_datasets/imdb_reviews/plain_text/1.0.0.incompleteUKZHRE/imdb_reviews-train.tfrecord\n"
          ],
          "name": "stdout"
        },
        {
          "output_type": "display_data",
          "data": {
            "application/vnd.jupyter.widget-view+json": {
              "model_id": "d49a702b3ecc4553937ca8da66ae74b1",
              "version_minor": 0,
              "version_major": 2
            },
            "text/plain": [
              "HBox(children=(FloatProgress(value=0.0, max=25000.0), HTML(value='')))"
            ]
          },
          "metadata": {
            "tags": []
          }
        },
        {
          "output_type": "stream",
          "text": [
            "\r"
          ],
          "name": "stdout"
        },
        {
          "output_type": "display_data",
          "data": {
            "application/vnd.jupyter.widget-view+json": {
              "model_id": "bd037185941c4b40bd120e335afe2fd8",
              "version_minor": 0,
              "version_major": 2
            },
            "text/plain": [
              "HBox(children=(FloatProgress(value=1.0, bar_style='info', max=1.0), HTML(value='')))"
            ]
          },
          "metadata": {
            "tags": []
          }
        },
        {
          "output_type": "stream",
          "text": [
            "\rShuffling and writing examples to /root/tensorflow_datasets/imdb_reviews/plain_text/1.0.0.incompleteUKZHRE/imdb_reviews-test.tfrecord\n"
          ],
          "name": "stdout"
        },
        {
          "output_type": "display_data",
          "data": {
            "application/vnd.jupyter.widget-view+json": {
              "model_id": "fe7437f1183e4443922b90b4aef2ff17",
              "version_minor": 0,
              "version_major": 2
            },
            "text/plain": [
              "HBox(children=(FloatProgress(value=0.0, max=25000.0), HTML(value='')))"
            ]
          },
          "metadata": {
            "tags": []
          }
        },
        {
          "output_type": "stream",
          "text": [
            "\r"
          ],
          "name": "stdout"
        },
        {
          "output_type": "display_data",
          "data": {
            "application/vnd.jupyter.widget-view+json": {
              "model_id": "f7c95ab367e54515a32046e445783008",
              "version_minor": 0,
              "version_major": 2
            },
            "text/plain": [
              "HBox(children=(FloatProgress(value=1.0, bar_style='info', max=1.0), HTML(value='')))"
            ]
          },
          "metadata": {
            "tags": []
          }
        },
        {
          "output_type": "stream",
          "text": [
            "\rShuffling and writing examples to /root/tensorflow_datasets/imdb_reviews/plain_text/1.0.0.incompleteUKZHRE/imdb_reviews-unsupervised.tfrecord\n"
          ],
          "name": "stdout"
        },
        {
          "output_type": "display_data",
          "data": {
            "application/vnd.jupyter.widget-view+json": {
              "model_id": "1a720672291b4837807becbf93e3a6b4",
              "version_minor": 0,
              "version_major": 2
            },
            "text/plain": [
              "HBox(children=(FloatProgress(value=0.0, max=50000.0), HTML(value='')))"
            ]
          },
          "metadata": {
            "tags": []
          }
        },
        {
          "output_type": "stream",
          "text": [
            "\u001b[1mDataset imdb_reviews downloaded and prepared to /root/tensorflow_datasets/imdb_reviews/plain_text/1.0.0. Subsequent calls will reuse this data.\u001b[0m\n"
          ],
          "name": "stdout"
        }
      ]
    },
    {
      "cell_type": "code",
      "metadata": {
        "colab_type": "code",
        "id": "wHQ2Ko0zl7M4",
        "colab": {}
      },
      "source": [
        "import numpy as np\n",
        "\n",
        "train_data, test_data = imdb['train'], imdb['test']\n",
        "\n",
        "training_sentences = []\n",
        "training_labels = []\n",
        "\n",
        "testing_sentences = []\n",
        "testing_labels = []\n",
        "\n",
        "# str(s.tonumpy()) is needed in Python3 instead of just s.numpy()\n",
        "for s,l in train_data:\n",
        "  training_sentences.append(str(s.numpy()))\n",
        "  training_labels.append(l.numpy())\n",
        "  \n",
        "for s,l in test_data:\n",
        "  testing_sentences.append(str(s.numpy()))\n",
        "  testing_labels.append(l.numpy())\n",
        "  \n",
        "training_labels_final = np.array(training_labels)\n",
        "testing_labels_final = np.array(testing_labels)\n"
      ],
      "execution_count": 4,
      "outputs": []
    },
    {
      "cell_type": "code",
      "metadata": {
        "colab_type": "code",
        "id": "7n15yyMdmoH1",
        "colab": {}
      },
      "source": [
        "vocab_size = 10000\n",
        "embedding_dim = 16\n",
        "max_length = 120\n",
        "trunc_type='post'\n",
        "oov_tok = \"<OOV>\"\n",
        "\n",
        "\n",
        "from tensorflow.keras.preprocessing.text import Tokenizer\n",
        "from tensorflow.keras.preprocessing.sequence import pad_sequences\n",
        "\n",
        "tokenizer = Tokenizer(num_words = vocab_size, oov_token=oov_tok)\n",
        "tokenizer.fit_on_texts(training_sentences)\n",
        "word_index = tokenizer.word_index\n",
        "sequences = tokenizer.texts_to_sequences(training_sentences)\n",
        "padded = pad_sequences(sequences,maxlen=max_length, truncating=trunc_type)\n",
        "\n",
        "testing_sequences = tokenizer.texts_to_sequences(testing_sentences)\n",
        "testing_padded = pad_sequences(testing_sequences,maxlen=max_length)\n"
      ],
      "execution_count": 5,
      "outputs": []
    },
    {
      "cell_type": "code",
      "metadata": {
        "colab_type": "code",
        "id": "9axf0uIXVMhO",
        "colab": {
          "base_uri": "https://localhost:8080/",
          "height": 70
        },
        "outputId": "0197ba9a-15b6-40b3-b965-ef6a6b1f4a47"
      },
      "source": [
        "reverse_word_index = dict([(value, key) for (key, value) in word_index.items()])\n",
        "\n",
        "def decode_review(text):\n",
        "    return ' '.join([reverse_word_index.get(i, '?') for i in text])\n",
        "\n",
        "print(decode_review(padded[1]))\n",
        "print(training_sentences[1])"
      ],
      "execution_count": 6,
      "outputs": [
        {
          "output_type": "stream",
          "text": [
            "? ? ? ? ? ? ? b'i have been known to fall asleep during films but this is usually due to a combination of things including really tired being warm and comfortable on the <OOV> and having just eaten a lot however on this occasion i fell asleep because the film was rubbish the plot development was constant constantly slow and boring things seemed to happen but with no explanation of what was causing them or why i admit i may have missed part of the film but i watched the majority of it and everything just seemed to happen of its own <OOV> without any real concern for anything else i cant recommend this film at all '\n",
            "b'I have been known to fall asleep during films, but this is usually due to a combination of things including, really tired, being warm and comfortable on the sette and having just eaten a lot. However on this occasion I fell asleep because the film was rubbish. The plot development was constant. Constantly slow and boring. Things seemed to happen, but with no explanation of what was causing them or why. I admit, I may have missed part of the film, but i watched the majority of it and everything just seemed to happen of its own accord without any real concern for anything else. I cant recommend this film at all.'\n"
          ],
          "name": "stdout"
        }
      ]
    },
    {
      "cell_type": "code",
      "metadata": {
        "colab_type": "code",
        "id": "5NEpdhb8AxID",
        "colab": {
          "base_uri": "https://localhost:8080/",
          "height": 286
        },
        "outputId": "c64a9423-949e-410a-9690-31c02b89a0c1"
      },
      "source": [
        "model = tf.keras.Sequential([\n",
        "    tf.keras.layers.Embedding(vocab_size, embedding_dim, input_length=max_length),\n",
        "    tf.keras.layers.Bidirectional(tf.keras.layers.GRU(32)),\n",
        "    tf.keras.layers.Dense(6, activation='relu'),\n",
        "    tf.keras.layers.Dense(1, activation='sigmoid')\n",
        "])\n",
        "model.compile(loss='binary_crossentropy',optimizer='adam',metrics=['accuracy'])\n",
        "model.summary()\n"
      ],
      "execution_count": 7,
      "outputs": [
        {
          "output_type": "stream",
          "text": [
            "Model: \"sequential\"\n",
            "_________________________________________________________________\n",
            "Layer (type)                 Output Shape              Param #   \n",
            "=================================================================\n",
            "embedding (Embedding)        (None, 120, 16)           160000    \n",
            "_________________________________________________________________\n",
            "bidirectional (Bidirectional (None, 64)                9600      \n",
            "_________________________________________________________________\n",
            "dense (Dense)                (None, 6)                 390       \n",
            "_________________________________________________________________\n",
            "dense_1 (Dense)              (None, 1)                 7         \n",
            "=================================================================\n",
            "Total params: 169,997\n",
            "Trainable params: 169,997\n",
            "Non-trainable params: 0\n",
            "_________________________________________________________________\n"
          ],
          "name": "stdout"
        }
      ]
    },
    {
      "cell_type": "code",
      "metadata": {
        "colab_type": "code",
        "id": "V5LLrXC-uNX6",
        "colab": {
          "base_uri": "https://localhost:8080/",
          "height": 1000
        },
        "outputId": "4264ca35-e20d-4cb5-fe02-d8688aeca32f"
      },
      "source": [
        "num_epochs = 50\n",
        "history = model.fit(padded, training_labels_final, epochs=num_epochs, validation_data=(testing_padded, testing_labels_final))"
      ],
      "execution_count": 10,
      "outputs": [
        {
          "output_type": "stream",
          "text": [
            "Epoch 1/50\n",
            "782/782 [==============================] - 15s 20ms/step - loss: 0.6655 - accuracy: 0.5706 - val_loss: 0.6295 - val_accuracy: 0.6884\n",
            "Epoch 2/50\n",
            "782/782 [==============================] - 15s 19ms/step - loss: 0.6779 - accuracy: 0.5481 - val_loss: 0.6888 - val_accuracy: 0.5558\n",
            "Epoch 3/50\n",
            "782/782 [==============================] - 15s 19ms/step - loss: 0.6729 - accuracy: 0.5944 - val_loss: 0.6691 - val_accuracy: 0.5926\n",
            "Epoch 4/50\n",
            "782/782 [==============================] - 15s 19ms/step - loss: 0.6528 - accuracy: 0.6158 - val_loss: 0.6343 - val_accuracy: 0.6197\n",
            "Epoch 5/50\n",
            "782/782 [==============================] - 15s 19ms/step - loss: 0.5660 - accuracy: 0.7062 - val_loss: 0.4248 - val_accuracy: 0.8215\n",
            "Epoch 6/50\n",
            "782/782 [==============================] - 15s 19ms/step - loss: 0.3749 - accuracy: 0.8516 - val_loss: 0.3958 - val_accuracy: 0.8294\n",
            "Epoch 7/50\n",
            "782/782 [==============================] - 15s 20ms/step - loss: 0.2927 - accuracy: 0.8868 - val_loss: 0.3895 - val_accuracy: 0.8401\n",
            "Epoch 8/50\n",
            "782/782 [==============================] - 15s 19ms/step - loss: 0.2354 - accuracy: 0.9098 - val_loss: 0.3906 - val_accuracy: 0.8389\n",
            "Epoch 9/50\n",
            "782/782 [==============================] - 15s 19ms/step - loss: 0.1901 - accuracy: 0.9322 - val_loss: 0.4213 - val_accuracy: 0.8318\n",
            "Epoch 10/50\n",
            "782/782 [==============================] - 15s 19ms/step - loss: 0.1573 - accuracy: 0.9473 - val_loss: 0.4914 - val_accuracy: 0.8281\n",
            "Epoch 11/50\n",
            "782/782 [==============================] - 15s 19ms/step - loss: 0.1270 - accuracy: 0.9610 - val_loss: 0.4905 - val_accuracy: 0.8257\n",
            "Epoch 12/50\n",
            "782/782 [==============================] - 15s 19ms/step - loss: 0.1018 - accuracy: 0.9708 - val_loss: 0.5522 - val_accuracy: 0.8219\n",
            "Epoch 13/50\n",
            "782/782 [==============================] - 15s 19ms/step - loss: 0.0917 - accuracy: 0.9722 - val_loss: 0.6134 - val_accuracy: 0.8234\n",
            "Epoch 14/50\n",
            "782/782 [==============================] - 15s 19ms/step - loss: 0.0722 - accuracy: 0.9802 - val_loss: 0.6808 - val_accuracy: 0.8228\n",
            "Epoch 15/50\n",
            "782/782 [==============================] - 15s 19ms/step - loss: 0.0573 - accuracy: 0.9852 - val_loss: 0.7019 - val_accuracy: 0.8174\n",
            "Epoch 16/50\n",
            "782/782 [==============================] - 15s 19ms/step - loss: 0.0481 - accuracy: 0.9878 - val_loss: 0.7460 - val_accuracy: 0.8139\n",
            "Epoch 17/50\n",
            "782/782 [==============================] - 15s 19ms/step - loss: 0.0496 - accuracy: 0.9864 - val_loss: 0.8165 - val_accuracy: 0.8176\n",
            "Epoch 18/50\n",
            "782/782 [==============================] - 15s 19ms/step - loss: 0.0371 - accuracy: 0.9912 - val_loss: 0.8095 - val_accuracy: 0.8104\n",
            "Epoch 19/50\n",
            "782/782 [==============================] - 15s 19ms/step - loss: 0.0352 - accuracy: 0.9904 - val_loss: 0.8947 - val_accuracy: 0.8112\n",
            "Epoch 20/50\n",
            "782/782 [==============================] - 15s 19ms/step - loss: 0.0437 - accuracy: 0.9868 - val_loss: 0.7925 - val_accuracy: 0.8145\n",
            "Epoch 21/50\n",
            "782/782 [==============================] - 15s 19ms/step - loss: 0.0290 - accuracy: 0.9919 - val_loss: 0.8844 - val_accuracy: 0.8060\n",
            "Epoch 22/50\n",
            "782/782 [==============================] - 15s 19ms/step - loss: 0.0249 - accuracy: 0.9932 - val_loss: 0.9649 - val_accuracy: 0.8097\n",
            "Epoch 23/50\n",
            "782/782 [==============================] - 15s 19ms/step - loss: 0.0175 - accuracy: 0.9958 - val_loss: 1.0485 - val_accuracy: 0.8117\n",
            "Epoch 24/50\n",
            "782/782 [==============================] - 15s 19ms/step - loss: 0.0182 - accuracy: 0.9950 - val_loss: 1.0792 - val_accuracy: 0.8103\n",
            "Epoch 25/50\n",
            "782/782 [==============================] - 15s 19ms/step - loss: 0.0223 - accuracy: 0.9934 - val_loss: 0.9917 - val_accuracy: 0.8108\n",
            "Epoch 26/50\n",
            "782/782 [==============================] - 15s 19ms/step - loss: 0.0157 - accuracy: 0.9954 - val_loss: 1.0738 - val_accuracy: 0.8075\n",
            "Epoch 27/50\n",
            "782/782 [==============================] - 15s 20ms/step - loss: 0.0138 - accuracy: 0.9959 - val_loss: 0.9680 - val_accuracy: 0.8086\n",
            "Epoch 28/50\n",
            "782/782 [==============================] - 15s 19ms/step - loss: 0.0117 - accuracy: 0.9970 - val_loss: 1.0228 - val_accuracy: 0.8078\n",
            "Epoch 29/50\n",
            "782/782 [==============================] - 15s 19ms/step - loss: 0.0163 - accuracy: 0.9950 - val_loss: 1.0311 - val_accuracy: 0.8000\n",
            "Epoch 30/50\n",
            "782/782 [==============================] - 15s 19ms/step - loss: 0.0121 - accuracy: 0.9967 - val_loss: 1.0997 - val_accuracy: 0.8080\n",
            "Epoch 31/50\n",
            "782/782 [==============================] - 15s 19ms/step - loss: 0.0100 - accuracy: 0.9970 - val_loss: 1.0828 - val_accuracy: 0.8094\n",
            "Epoch 32/50\n",
            "782/782 [==============================] - 15s 19ms/step - loss: 0.0089 - accuracy: 0.9976 - val_loss: 1.1544 - val_accuracy: 0.8091\n",
            "Epoch 33/50\n",
            "782/782 [==============================] - 15s 19ms/step - loss: 0.0046 - accuracy: 0.9986 - val_loss: 1.2719 - val_accuracy: 0.8075\n",
            "Epoch 34/50\n",
            "782/782 [==============================] - 15s 19ms/step - loss: 0.0102 - accuracy: 0.9968 - val_loss: 1.2212 - val_accuracy: 0.8047\n",
            "Epoch 35/50\n",
            "782/782 [==============================] - 15s 19ms/step - loss: 0.0072 - accuracy: 0.9979 - val_loss: 1.2378 - val_accuracy: 0.8060\n",
            "Epoch 36/50\n",
            "782/782 [==============================] - 15s 19ms/step - loss: 0.0084 - accuracy: 0.9976 - val_loss: 1.1633 - val_accuracy: 0.8085\n",
            "Epoch 37/50\n",
            "782/782 [==============================] - 15s 19ms/step - loss: 0.0041 - accuracy: 0.9988 - val_loss: 1.1971 - val_accuracy: 0.8053\n",
            "Epoch 38/50\n",
            "782/782 [==============================] - 15s 19ms/step - loss: 0.0108 - accuracy: 0.9967 - val_loss: 1.2155 - val_accuracy: 0.8068\n",
            "Epoch 39/50\n",
            "782/782 [==============================] - 15s 20ms/step - loss: 0.0035 - accuracy: 0.9990 - val_loss: 1.2881 - val_accuracy: 0.8008\n",
            "Epoch 40/50\n",
            "782/782 [==============================] - 15s 19ms/step - loss: 0.0040 - accuracy: 0.9988 - val_loss: 1.3501 - val_accuracy: 0.8041\n",
            "Epoch 41/50\n",
            "782/782 [==============================] - 15s 19ms/step - loss: 0.0072 - accuracy: 0.9975 - val_loss: 1.2711 - val_accuracy: 0.8029\n",
            "Epoch 42/50\n",
            "782/782 [==============================] - 15s 19ms/step - loss: 0.0025 - accuracy: 0.9991 - val_loss: 1.3474 - val_accuracy: 0.8073\n",
            "Epoch 43/50\n",
            "782/782 [==============================] - 15s 19ms/step - loss: 0.0053 - accuracy: 0.9986 - val_loss: 1.3547 - val_accuracy: 0.8059\n",
            "Epoch 44/50\n",
            "782/782 [==============================] - 15s 20ms/step - loss: 0.0040 - accuracy: 0.9987 - val_loss: 1.3451 - val_accuracy: 0.8067\n",
            "Epoch 45/50\n",
            "782/782 [==============================] - 15s 20ms/step - loss: 0.0037 - accuracy: 0.9990 - val_loss: 1.3531 - val_accuracy: 0.8042\n",
            "Epoch 46/50\n",
            "782/782 [==============================] - 15s 19ms/step - loss: 6.6563e-04 - accuracy: 0.9999 - val_loss: 1.4771 - val_accuracy: 0.8058\n",
            "Epoch 47/50\n",
            "782/782 [==============================] - 15s 19ms/step - loss: 8.9758e-05 - accuracy: 1.0000 - val_loss: 1.5169 - val_accuracy: 0.8052\n",
            "Epoch 48/50\n",
            "782/782 [==============================] - 16s 20ms/step - loss: 4.4533e-05 - accuracy: 1.0000 - val_loss: 1.5768 - val_accuracy: 0.8050\n",
            "Epoch 49/50\n",
            "782/782 [==============================] - 15s 19ms/step - loss: 2.7538e-05 - accuracy: 1.0000 - val_loss: 1.6393 - val_accuracy: 0.8056\n",
            "Epoch 50/50\n",
            "782/782 [==============================] - 15s 19ms/step - loss: 1.8446e-05 - accuracy: 1.0000 - val_loss: 1.6906 - val_accuracy: 0.8052\n"
          ],
          "name": "stdout"
        }
      ]
    },
    {
      "cell_type": "code",
      "metadata": {
        "colab_type": "code",
        "id": "nHGYuU4jPYaj",
        "colab": {
          "base_uri": "https://localhost:8080/",
          "height": 542
        },
        "outputId": "736829c1-0593-4987-8262-5f4f3d7b4a90"
      },
      "source": [
        "import matplotlib.pyplot as plt\n",
        "\n",
        "\n",
        "def plot_graphs(history, string):\n",
        "  plt.plot(history.history[string])\n",
        "  plt.plot(history.history['val_'+string])\n",
        "  plt.xlabel(\"Epochs\")\n",
        "  plt.ylabel(string)\n",
        "  plt.legend([string, 'val_'+string])\n",
        "  plt.show()\n",
        "\n",
        "plot_graphs(history, 'accuracy')\n",
        "plot_graphs(history, 'loss')"
      ],
      "execution_count": 11,
      "outputs": [
        {
          "output_type": "display_data",
          "data": {
            "image/png": "[encoded data removed]",
            "text/plain": [
              "<Figure size 432x288 with 1 Axes>"
            ]
          },
          "metadata": {
            "tags": [],
            "needs_background": "light"
          }
        },
        {
          "output_type": "display_data",
          "data": {
            "image/png": "[encoded data removed]",
            "text/plain": [
              "<Figure size 432x288 with 1 Axes>"
            ]
          },
          "metadata": {
            "tags": [],
            "needs_background": "light"
          }
        }
      ]
    },
    {
      "cell_type": "code",
      "metadata": {
        "colab_type": "code",
        "id": "wSualgGPPK0S",
        "colab": {
          "base_uri": "https://localhost:8080/",
          "height": 286
        },
        "outputId": "322f215e-0f49-4aae-eb7f-571e5c641676"
      },
      "source": [
        "# Model Definition with LSTM\n",
        "model = tf.keras.Sequential([\n",
        "    tf.keras.layers.Embedding(vocab_size, embedding_dim, input_length=max_length),\n",
        "    tf.keras.layers.Bidirectional(tf.keras.layers.LSTM(32)),\n",
        "    tf.keras.layers.Dense(6, activation='relu'),\n",
        "    tf.keras.layers.Dense(1, activation='sigmoid')\n",
        "])\n",
        "model.compile(loss='binary_crossentropy',optimizer='adam',metrics=['accuracy'])\n",
        "model.summary()\n"
      ],
      "execution_count": 9,
      "outputs": [
        {
          "output_type": "stream",
          "text": [
            "Model: \"sequential_1\"\n",
            "_________________________________________________________________\n",
            "Layer (type)                 Output Shape              Param #   \n",
            "=================================================================\n",
            "embedding_1 (Embedding)      (None, 120, 16)           160000    \n",
            "_________________________________________________________________\n",
            "bidirectional_1 (Bidirection (None, 64)                12544     \n",
            "_________________________________________________________________\n",
            "dense_2 (Dense)              (None, 6)                 390       \n",
            "_________________________________________________________________\n",
            "dense_3 (Dense)              (None, 1)                 7         \n",
            "=================================================================\n",
            "Total params: 172,941\n",
            "Trainable params: 172,941\n",
            "Non-trainable params: 0\n",
            "_________________________________________________________________\n"
          ],
          "name": "stdout"
        }
      ]
    },
    {
      "cell_type": "code",
      "metadata": {
        "id": "kOiZ5--NB7kx",
        "colab_type": "code",
        "colab": {
          "base_uri": "https://localhost:8080/",
          "height": 1000
        },
        "outputId": "7cd2eaa7-0e82-4841-ae86-41042ce51c8d"
      },
      "source": [
        "num_epochs = 50\n",
        "history = model.fit(padded, training_labels_final, epochs=num_epochs, validation_data=(testing_padded, testing_labels_final))"
      ],
      "execution_count": 12,
      "outputs": [
        {
          "output_type": "stream",
          "text": [
            "Epoch 1/50\n",
            "782/782 [==============================] - 15s 19ms/step - loss: 1.2760e-05 - accuracy: 1.0000 - val_loss: 1.7591 - val_accuracy: 0.8056\n",
            "Epoch 2/50\n",
            "782/782 [==============================] - 15s 19ms/step - loss: 7.7619e-06 - accuracy: 1.0000 - val_loss: 1.8206 - val_accuracy: 0.8065\n",
            "Epoch 3/50\n",
            "782/782 [==============================] - 15s 20ms/step - loss: 5.2140e-06 - accuracy: 1.0000 - val_loss: 1.8786 - val_accuracy: 0.8062\n",
            "Epoch 4/50\n",
            "782/782 [==============================] - 15s 19ms/step - loss: 3.3644e-06 - accuracy: 1.0000 - val_loss: 1.9359 - val_accuracy: 0.8059\n",
            "Epoch 5/50\n",
            "782/782 [==============================] - 15s 19ms/step - loss: 2.2223e-06 - accuracy: 1.0000 - val_loss: 2.0174 - val_accuracy: 0.8060\n",
            "Epoch 6/50\n",
            "782/782 [==============================] - 15s 19ms/step - loss: 0.0164 - accuracy: 0.9960 - val_loss: 1.3543 - val_accuracy: 0.8011\n",
            "Epoch 7/50\n",
            "782/782 [==============================] - 15s 19ms/step - loss: 0.0112 - accuracy: 0.9964 - val_loss: 1.3330 - val_accuracy: 0.8015\n",
            "Epoch 8/50\n",
            "782/782 [==============================] - 15s 19ms/step - loss: 0.0023 - accuracy: 0.9996 - val_loss: 1.4222 - val_accuracy: 0.8018\n",
            "Epoch 9/50\n",
            "782/782 [==============================] - 15s 19ms/step - loss: 2.1386e-04 - accuracy: 1.0000 - val_loss: 1.4944 - val_accuracy: 0.8038\n",
            "Epoch 10/50\n",
            "782/782 [==============================] - 15s 19ms/step - loss: 5.0342e-05 - accuracy: 1.0000 - val_loss: 1.5600 - val_accuracy: 0.8045\n",
            "Epoch 11/50\n",
            "782/782 [==============================] - 15s 19ms/step - loss: 2.9525e-05 - accuracy: 1.0000 - val_loss: 1.6246 - val_accuracy: 0.8045\n",
            "Epoch 12/50\n",
            "782/782 [==============================] - 15s 20ms/step - loss: 1.8930e-05 - accuracy: 1.0000 - val_loss: 1.6891 - val_accuracy: 0.8044\n",
            "Epoch 13/50\n",
            "782/782 [==============================] - 15s 20ms/step - loss: 0.0029 - accuracy: 0.9992 - val_loss: 1.5429 - val_accuracy: 0.7939\n",
            "Epoch 14/50\n",
            "782/782 [==============================] - 15s 19ms/step - loss: 0.0096 - accuracy: 0.9970 - val_loss: 1.5199 - val_accuracy: 0.7982\n",
            "Epoch 15/50\n",
            "782/782 [==============================] - 16s 20ms/step - loss: 0.0023 - accuracy: 0.9995 - val_loss: 1.4537 - val_accuracy: 0.8009\n",
            "Epoch 16/50\n",
            "782/782 [==============================] - 15s 19ms/step - loss: 4.2708e-04 - accuracy: 1.0000 - val_loss: 1.4853 - val_accuracy: 0.8025\n",
            "Epoch 17/50\n",
            "782/782 [==============================] - 15s 19ms/step - loss: 8.9568e-04 - accuracy: 0.9997 - val_loss: 1.5602 - val_accuracy: 0.8043\n",
            "Epoch 18/50\n",
            "782/782 [==============================] - 15s 19ms/step - loss: 0.0041 - accuracy: 0.9989 - val_loss: 1.5193 - val_accuracy: 0.8030\n",
            "Epoch 19/50\n",
            "782/782 [==============================] - 15s 19ms/step - loss: 0.0054 - accuracy: 0.9982 - val_loss: 1.3432 - val_accuracy: 0.8004\n",
            "Epoch 20/50\n",
            "782/782 [==============================] - 15s 19ms/step - loss: 0.0035 - accuracy: 0.9990 - val_loss: 1.5032 - val_accuracy: 0.8030\n",
            "Epoch 21/50\n",
            "782/782 [==============================] - 15s 19ms/step - loss: 0.0039 - accuracy: 0.9987 - val_loss: 1.4479 - val_accuracy: 0.8030\n",
            "Epoch 22/50\n",
            "782/782 [==============================] - 15s 19ms/step - loss: 2.6215e-04 - accuracy: 1.0000 - val_loss: 1.5890 - val_accuracy: 0.7997\n",
            "Epoch 23/50\n",
            "782/782 [==============================] - 15s 19ms/step - loss: 8.8011e-05 - accuracy: 1.0000 - val_loss: 1.5852 - val_accuracy: 0.8033\n",
            "Epoch 24/50\n",
            "782/782 [==============================] - 15s 19ms/step - loss: 2.1070e-05 - accuracy: 1.0000 - val_loss: 1.6435 - val_accuracy: 0.8038\n",
            "Epoch 25/50\n",
            "782/782 [==============================] - 15s 19ms/step - loss: 2.3556e-05 - accuracy: 1.0000 - val_loss: 1.6706 - val_accuracy: 0.8031\n",
            "Epoch 26/50\n",
            "782/782 [==============================] - 15s 19ms/step - loss: 1.0752e-05 - accuracy: 1.0000 - val_loss: 1.7313 - val_accuracy: 0.8042\n",
            "Epoch 27/50\n",
            "782/782 [==============================] - 15s 19ms/step - loss: 6.6374e-06 - accuracy: 1.0000 - val_loss: 1.7886 - val_accuracy: 0.8044\n",
            "Epoch 28/50\n",
            "782/782 [==============================] - 15s 19ms/step - loss: 4.7162e-06 - accuracy: 1.0000 - val_loss: 1.8415 - val_accuracy: 0.8048\n",
            "Epoch 29/50\n",
            "782/782 [==============================] - 15s 19ms/step - loss: 3.3239e-06 - accuracy: 1.0000 - val_loss: 1.9036 - val_accuracy: 0.8048\n",
            "Epoch 30/50\n",
            "782/782 [==============================] - 15s 19ms/step - loss: 2.2027e-06 - accuracy: 1.0000 - val_loss: 1.9713 - val_accuracy: 0.8048\n",
            "Epoch 31/50\n",
            "782/782 [==============================] - 15s 19ms/step - loss: 1.5200e-06 - accuracy: 1.0000 - val_loss: 2.0336 - val_accuracy: 0.8049\n",
            "Epoch 32/50\n",
            "782/782 [==============================] - 15s 19ms/step - loss: 1.0160e-06 - accuracy: 1.0000 - val_loss: 2.0951 - val_accuracy: 0.8042\n",
            "Epoch 33/50\n",
            "782/782 [==============================] - 15s 19ms/step - loss: 6.7606e-07 - accuracy: 1.0000 - val_loss: 2.1675 - val_accuracy: 0.8043\n",
            "Epoch 34/50\n",
            "782/782 [==============================] - 15s 19ms/step - loss: 4.5507e-07 - accuracy: 1.0000 - val_loss: 2.2377 - val_accuracy: 0.8048\n",
            "Epoch 35/50\n",
            "782/782 [==============================] - 15s 19ms/step - loss: 3.0249e-07 - accuracy: 1.0000 - val_loss: 2.3051 - val_accuracy: 0.8045\n",
            "Epoch 36/50\n",
            "782/782 [==============================] - 16s 21ms/step - loss: 2.1466e-07 - accuracy: 1.0000 - val_loss: 2.3574 - val_accuracy: 0.8049\n",
            "Epoch 37/50\n",
            "782/782 [==============================] - 15s 19ms/step - loss: 1.3663e-07 - accuracy: 1.0000 - val_loss: 2.4307 - val_accuracy: 0.8045\n",
            "Epoch 38/50\n",
            "782/782 [==============================] - 15s 20ms/step - loss: 9.2781e-08 - accuracy: 1.0000 - val_loss: 2.5015 - val_accuracy: 0.8043\n",
            "Epoch 39/50\n",
            "782/782 [==============================] - 15s 19ms/step - loss: 6.4359e-08 - accuracy: 1.0000 - val_loss: 2.5563 - val_accuracy: 0.8042\n",
            "Epoch 40/50\n",
            "782/782 [==============================] - 15s 19ms/step - loss: 4.5215e-08 - accuracy: 1.0000 - val_loss: 2.6197 - val_accuracy: 0.8042\n",
            "Epoch 41/50\n",
            "782/782 [==============================] - 15s 20ms/step - loss: 3.1613e-08 - accuracy: 1.0000 - val_loss: 2.6789 - val_accuracy: 0.8040\n",
            "Epoch 42/50\n",
            "782/782 [==============================] - 15s 20ms/step - loss: 2.2150e-08 - accuracy: 1.0000 - val_loss: 2.7402 - val_accuracy: 0.8044\n",
            "Epoch 43/50\n",
            "782/782 [==============================] - 15s 19ms/step - loss: 1.5706e-08 - accuracy: 1.0000 - val_loss: 2.8007 - val_accuracy: 0.8042\n",
            "Epoch 44/50\n",
            "782/782 [==============================] - 15s 19ms/step - loss: 1.1242e-08 - accuracy: 1.0000 - val_loss: 2.8428 - val_accuracy: 0.8042\n",
            "Epoch 45/50\n",
            "782/782 [==============================] - 15s 20ms/step - loss: 8.0706e-09 - accuracy: 1.0000 - val_loss: 2.9033 - val_accuracy: 0.8040\n",
            "Epoch 46/50\n",
            "782/782 [==============================] - 15s 19ms/step - loss: 5.9730e-09 - accuracy: 1.0000 - val_loss: 2.9500 - val_accuracy: 0.8043\n",
            "Epoch 47/50\n",
            "782/782 [==============================] - 16s 21ms/step - loss: 4.4307e-09 - accuracy: 1.0000 - val_loss: 3.0048 - val_accuracy: 0.8041\n",
            "Epoch 48/50\n",
            "782/782 [==============================] - 15s 20ms/step - loss: 3.4132e-09 - accuracy: 1.0000 - val_loss: 3.0485 - val_accuracy: 0.8043\n",
            "Epoch 49/50\n",
            "782/782 [==============================] - 15s 20ms/step - loss: 2.8690e-09 - accuracy: 1.0000 - val_loss: 3.0982 - val_accuracy: 0.8045\n",
            "Epoch 50/50\n",
            "782/782 [==============================] - 15s 20ms/step - loss: 2.0465e-09 - accuracy: 1.0000 - val_loss: 3.1390 - val_accuracy: 0.8044\n"
          ],
          "name": "stdout"
        }
      ]
    },
    {
      "cell_type": "code",
      "metadata": {
        "id": "Cpq8fzsnCDTj",
        "colab_type": "code",
        "colab": {
          "base_uri": "https://localhost:8080/",
          "height": 541
        },
        "outputId": "c98218f5-cf2e-4380-a95b-f42c00a31fc3"
      },
      "source": [
        "plot_graphs(history, 'accuracy')\n",
        "plot_graphs(history, 'loss')"
      ],
      "execution_count": 13,
      "outputs": [
        {
          "output_type": "display_data",
          "data": {
            "image/png": "[encoded data removed]",
            "text/plain": [
              "<Figure size 432x288 with 1 Axes>"
            ]
          },
          "metadata": {
            "tags": [],
            "needs_background": "light"
          }
        },
        {
          "output_type": "display_data",
          "data": {
            "image/png": "[encoded data removed]",
            "text/plain": [
              "<Figure size 432x288 with 1 Axes>"
            ]
          },
          "metadata": {
            "tags": [],
            "needs_background": "light"
          }
        }
      ]
    },
    {
      "cell_type": "code",
      "metadata": {
        "id": "-oyA81kNB8q-",
        "colab_type": "code",
        "colab": {}
      },
      "source": [
        ""
      ],
      "execution_count": 13,
      "outputs": []
    },
    {
      "cell_type": "code",
      "metadata": {
        "colab_type": "code",
        "id": "K_Jc7cY3Qxke",
        "colab": {
          "base_uri": "https://localhost:8080/",
          "height": 319
        },
        "outputId": "7b0d42ad-f658-4fc8-9978-8cdb8726be5d"
      },
      "source": [
        "# Model Definition with Conv1D\n",
        "model = tf.keras.Sequential([\n",
        "    tf.keras.layers.Embedding(vocab_size, embedding_dim, input_length=max_length),\n",
        "    tf.keras.layers.Conv1D(128, 5, activation='relu'),\n",
        "    tf.keras.layers.GlobalAveragePooling1D(),\n",
        "    tf.keras.layers.Dense(6, activation='relu'),\n",
        "    tf.keras.layers.Dense(1, activation='sigmoid')\n",
        "])\n",
        "model.compile(loss='binary_crossentropy',optimizer='adam',metrics=['accuracy'])\n",
        "model.summary()\n"
      ],
      "execution_count": 14,
      "outputs": [
        {
          "output_type": "stream",
          "text": [
            "Model: \"sequential_2\"\n",
            "_________________________________________________________________\n",
            "Layer (type)                 Output Shape              Param #   \n",
            "=================================================================\n",
            "embedding_2 (Embedding)      (None, 120, 16)           160000    \n",
            "_________________________________________________________________\n",
            "conv1d (Conv1D)              (None, 116, 128)          10368     \n",
            "_________________________________________________________________\n",
            "global_average_pooling1d (Gl (None, 128)               0         \n",
            "_________________________________________________________________\n",
            "dense_4 (Dense)              (None, 6)                 774       \n",
            "_________________________________________________________________\n",
            "dense_5 (Dense)              (None, 1)                 7         \n",
            "=================================================================\n",
            "Total params: 171,149\n",
            "Trainable params: 171,149\n",
            "Non-trainable params: 0\n",
            "_________________________________________________________________\n"
          ],
          "name": "stdout"
        }
      ]
    },
    {
      "cell_type": "code",
      "metadata": {
        "id": "2tU9gbMCBYdH",
        "colab_type": "code",
        "colab": {
          "base_uri": "https://localhost:8080/",
          "height": 1000
        },
        "outputId": "e7b5f4ba-ada9-4507-d7fe-9b77c0c831e9"
      },
      "source": [
        "num_epochs = 50\n",
        "history = model.fit(padded, training_labels_final, epochs=num_epochs, validation_data=(testing_padded, testing_labels_final))"
      ],
      "execution_count": 15,
      "outputs": [
        {
          "output_type": "stream",
          "text": [
            "Epoch 1/50\n",
            "782/782 [==============================] - 6s 8ms/step - loss: 0.4359 - accuracy: 0.7906 - val_loss: 0.3497 - val_accuracy: 0.8481\n",
            "Epoch 2/50\n",
            "782/782 [==============================] - 6s 7ms/step - loss: 0.2801 - accuracy: 0.8854 - val_loss: 0.3638 - val_accuracy: 0.8420\n",
            "Epoch 3/50\n",
            "782/782 [==============================] - 6s 7ms/step - loss: 0.2289 - accuracy: 0.9099 - val_loss: 0.3887 - val_accuracy: 0.8326\n",
            "Epoch 4/50\n",
            "782/782 [==============================] - 6s 8ms/step - loss: 0.1862 - accuracy: 0.9308 - val_loss: 0.4206 - val_accuracy: 0.8322\n",
            "Epoch 5/50\n",
            "782/782 [==============================] - 6s 7ms/step - loss: 0.1485 - accuracy: 0.9478 - val_loss: 0.5101 - val_accuracy: 0.8165\n",
            "Epoch 6/50\n",
            "782/782 [==============================] - 6s 7ms/step - loss: 0.1160 - accuracy: 0.9606 - val_loss: 0.5707 - val_accuracy: 0.8166\n",
            "Epoch 7/50\n",
            "782/782 [==============================] - 6s 7ms/step - loss: 0.0912 - accuracy: 0.9718 - val_loss: 0.6788 - val_accuracy: 0.8141\n",
            "Epoch 8/50\n",
            "782/782 [==============================] - 6s 7ms/step - loss: 0.0692 - accuracy: 0.9795 - val_loss: 0.7636 - val_accuracy: 0.8118\n",
            "Epoch 9/50\n",
            "782/782 [==============================] - 6s 7ms/step - loss: 0.0547 - accuracy: 0.9840 - val_loss: 0.8456 - val_accuracy: 0.8094\n",
            "Epoch 10/50\n",
            "782/782 [==============================] - 6s 7ms/step - loss: 0.0409 - accuracy: 0.9890 - val_loss: 1.0069 - val_accuracy: 0.8083\n",
            "Epoch 11/50\n",
            "782/782 [==============================] - 6s 7ms/step - loss: 0.0315 - accuracy: 0.9916 - val_loss: 1.1201 - val_accuracy: 0.8040\n",
            "Epoch 12/50\n",
            "782/782 [==============================] - 6s 7ms/step - loss: 0.0313 - accuracy: 0.9898 - val_loss: 1.1079 - val_accuracy: 0.8030\n",
            "Epoch 13/50\n",
            "782/782 [==============================] - 6s 8ms/step - loss: 0.0287 - accuracy: 0.9911 - val_loss: 1.1709 - val_accuracy: 0.8011\n",
            "Epoch 14/50\n",
            "782/782 [==============================] - 6s 8ms/step - loss: 0.0238 - accuracy: 0.9931 - val_loss: 1.2093 - val_accuracy: 0.8012\n",
            "Epoch 15/50\n",
            "782/782 [==============================] - 6s 8ms/step - loss: 0.0188 - accuracy: 0.9942 - val_loss: 1.2876 - val_accuracy: 0.7959\n",
            "Epoch 16/50\n",
            "782/782 [==============================] - 6s 7ms/step - loss: 0.0154 - accuracy: 0.9955 - val_loss: 1.4143 - val_accuracy: 0.8000\n",
            "Epoch 17/50\n",
            "782/782 [==============================] - 6s 8ms/step - loss: 0.0109 - accuracy: 0.9970 - val_loss: 1.6595 - val_accuracy: 0.7975\n",
            "Epoch 18/50\n",
            "782/782 [==============================] - 6s 7ms/step - loss: 0.0113 - accuracy: 0.9963 - val_loss: 1.7204 - val_accuracy: 0.7987\n",
            "Epoch 19/50\n",
            "782/782 [==============================] - 6s 7ms/step - loss: 0.0134 - accuracy: 0.9953 - val_loss: 1.6527 - val_accuracy: 0.8015\n",
            "Epoch 20/50\n",
            "782/782 [==============================] - 6s 7ms/step - loss: 0.0113 - accuracy: 0.9961 - val_loss: 1.7071 - val_accuracy: 0.7989\n",
            "Epoch 21/50\n",
            "782/782 [==============================] - 6s 7ms/step - loss: 0.0078 - accuracy: 0.9972 - val_loss: 1.7420 - val_accuracy: 0.8028\n",
            "Epoch 22/50\n",
            "782/782 [==============================] - 6s 7ms/step - loss: 0.0062 - accuracy: 0.9980 - val_loss: 1.9295 - val_accuracy: 0.8010\n",
            "Epoch 23/50\n",
            "782/782 [==============================] - 6s 7ms/step - loss: 0.0048 - accuracy: 0.9984 - val_loss: 2.1271 - val_accuracy: 0.8027\n",
            "Epoch 24/50\n",
            "782/782 [==============================] - 6s 7ms/step - loss: 0.0067 - accuracy: 0.9981 - val_loss: 1.9795 - val_accuracy: 0.8006\n",
            "Epoch 25/50\n",
            "782/782 [==============================] - 6s 7ms/step - loss: 0.0061 - accuracy: 0.9976 - val_loss: 2.0978 - val_accuracy: 0.8006\n",
            "Epoch 26/50\n",
            "782/782 [==============================] - 6s 7ms/step - loss: 0.0053 - accuracy: 0.9982 - val_loss: 1.9812 - val_accuracy: 0.7979\n",
            "Epoch 27/50\n",
            "782/782 [==============================] - 6s 7ms/step - loss: 0.0026 - accuracy: 0.9991 - val_loss: 2.1322 - val_accuracy: 0.7998\n",
            "Epoch 28/50\n",
            "782/782 [==============================] - 6s 7ms/step - loss: 0.0012 - accuracy: 0.9997 - val_loss: 2.2192 - val_accuracy: 0.7985\n",
            "Epoch 29/50\n",
            "782/782 [==============================] - 6s 7ms/step - loss: 0.0023 - accuracy: 0.9994 - val_loss: 2.1554 - val_accuracy: 0.7962\n",
            "Epoch 30/50\n",
            "782/782 [==============================] - 6s 7ms/step - loss: 0.0109 - accuracy: 0.9958 - val_loss: 2.0812 - val_accuracy: 0.7918\n",
            "Epoch 31/50\n",
            "782/782 [==============================] - 6s 7ms/step - loss: 0.0090 - accuracy: 0.9967 - val_loss: 2.1387 - val_accuracy: 0.7986\n",
            "Epoch 32/50\n",
            "782/782 [==============================] - 6s 7ms/step - loss: 0.0022 - accuracy: 0.9995 - val_loss: 2.3060 - val_accuracy: 0.8004\n",
            "Epoch 33/50\n",
            "782/782 [==============================] - 6s 7ms/step - loss: 3.7755e-04 - accuracy: 1.0000 - val_loss: 2.2745 - val_accuracy: 0.8013\n",
            "Epoch 34/50\n",
            "782/782 [==============================] - 6s 7ms/step - loss: 7.7231e-05 - accuracy: 1.0000 - val_loss: 2.3237 - val_accuracy: 0.8021\n",
            "Epoch 35/50\n",
            "782/782 [==============================] - 6s 7ms/step - loss: 4.3235e-05 - accuracy: 1.0000 - val_loss: 2.3549 - val_accuracy: 0.8012\n",
            "Epoch 36/50\n",
            "782/782 [==============================] - 5s 7ms/step - loss: 3.0306e-05 - accuracy: 1.0000 - val_loss: 2.4022 - val_accuracy: 0.8013\n",
            "Epoch 37/50\n",
            "782/782 [==============================] - 6s 7ms/step - loss: 2.1245e-05 - accuracy: 1.0000 - val_loss: 2.4522 - val_accuracy: 0.8016\n",
            "Epoch 38/50\n",
            "782/782 [==============================] - 6s 7ms/step - loss: 1.5313e-05 - accuracy: 1.0000 - val_loss: 2.4948 - val_accuracy: 0.8017\n",
            "Epoch 39/50\n",
            "782/782 [==============================] - 6s 7ms/step - loss: 1.0975e-05 - accuracy: 1.0000 - val_loss: 2.5538 - val_accuracy: 0.8020\n",
            "Epoch 40/50\n",
            "782/782 [==============================] - 6s 7ms/step - loss: 7.8064e-06 - accuracy: 1.0000 - val_loss: 2.6084 - val_accuracy: 0.8024\n",
            "Epoch 41/50\n",
            "782/782 [==============================] - 6s 8ms/step - loss: 5.4442e-06 - accuracy: 1.0000 - val_loss: 2.6704 - val_accuracy: 0.8026\n",
            "Epoch 42/50\n",
            "782/782 [==============================] - 6s 7ms/step - loss: 3.8493e-06 - accuracy: 1.0000 - val_loss: 2.7308 - val_accuracy: 0.8027\n",
            "Epoch 43/50\n",
            "782/782 [==============================] - 6s 7ms/step - loss: 2.6518e-06 - accuracy: 1.0000 - val_loss: 2.7960 - val_accuracy: 0.8025\n",
            "Epoch 44/50\n",
            "782/782 [==============================] - 6s 7ms/step - loss: 1.8224e-06 - accuracy: 1.0000 - val_loss: 2.8591 - val_accuracy: 0.8027\n",
            "Epoch 45/50\n",
            "782/782 [==============================] - 6s 8ms/step - loss: 1.2435e-06 - accuracy: 1.0000 - val_loss: 2.9304 - val_accuracy: 0.8023\n",
            "Epoch 46/50\n",
            "782/782 [==============================] - 6s 7ms/step - loss: 8.5237e-07 - accuracy: 1.0000 - val_loss: 2.9963 - val_accuracy: 0.8030\n",
            "Epoch 47/50\n",
            "782/782 [==============================] - 6s 7ms/step - loss: 5.7938e-07 - accuracy: 1.0000 - val_loss: 3.0721 - val_accuracy: 0.8029\n",
            "Epoch 48/50\n",
            "782/782 [==============================] - 6s 7ms/step - loss: 3.9360e-07 - accuracy: 1.0000 - val_loss: 3.1428 - val_accuracy: 0.8028\n",
            "Epoch 49/50\n",
            "782/782 [==============================] - 6s 8ms/step - loss: 2.6460e-07 - accuracy: 1.0000 - val_loss: 3.2124 - val_accuracy: 0.8028\n",
            "Epoch 50/50\n",
            "782/782 [==============================] - 6s 7ms/step - loss: 1.8192e-07 - accuracy: 1.0000 - val_loss: 3.2859 - val_accuracy: 0.8030\n"
          ],
          "name": "stdout"
        }
      ]
    },
    {
      "cell_type": "code",
      "metadata": {
        "id": "UCuc0HNKCLJK",
        "colab_type": "code",
        "colab": {
          "base_uri": "https://localhost:8080/",
          "height": 541
        },
        "outputId": "7928fb31-3168-48ad-a167-17d458100663"
      },
      "source": [
        "plot_graphs(history, 'accuracy')\n",
        "plot_graphs(history, 'loss')"
      ],
      "execution_count": 16,
      "outputs": [
        {
          "output_type": "display_data",
          "data": {
            "image/png": "[encoded data removed]",
            "text/plain": [
              "<Figure size 432x288 with 1 Axes>"
            ]
          },
          "metadata": {
            "tags": [],
            "needs_background": "light"
          }
        },
        {
          "output_type": "display_data",
          "data": {
            "image/png": "[encoded data removed]",
            "text/plain": [
              "<Figure size 432x288 with 1 Axes>"
            ]
          },
          "metadata": {
            "tags": [],
            "needs_background": "light"
          }
        }
      ]
    },
    {
      "cell_type": "code",
      "metadata": {
        "id": "YJCh8dVjGSpS",
        "colab_type": "code",
        "colab": {}
      },
      "source": [
        ""
      ],
      "execution_count": null,
      "outputs": []
    }
  ]
}